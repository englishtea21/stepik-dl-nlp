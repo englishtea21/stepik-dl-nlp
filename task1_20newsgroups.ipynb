{
  "cells": [
    {
      "cell_type": "markdown",
      "metadata": {
        "id": "h54d0DK07Edl"
      },
      "source": [
        "# Тематическая классификация длинных текстов - TFIDF и LogReg"
      ]
    },
    {
      "cell_type": "code",
      "execution_count": 1,
      "metadata": {
        "id": "qDyOBp1P7Edm"
      },
      "outputs": [],
      "source": [
        "# # Если Вы запускаете ноутбук на colab или kaggle,\n",
        "# # выполните следующие строчки, чтобы подгрузить библиотеку dlnlputils:\n",
        "\n",
        "# !git clone https://github.com/Samsung-IT-Academy/stepik-dl-nlp.git && pip install -r stepik-dl-nlp/requirements.txt\n",
        "# import sys; sys.path.append('./stepik-dl-nlp')"
      ]
    },
    {
      "cell_type": "code",
      "execution_count": 2,
      "metadata": {
        "ExecuteTime": {
          "end_time": "2019-09-12T12:42:57.265628Z",
          "start_time": "2019-09-12T12:42:55.188211Z"
        },
        "id": "qfyhwm2p7Edn"
      },
      "outputs": [],
      "source": [
        "import warnings\n",
        "warnings.filterwarnings('ignore')\n",
        "\n",
        "from sklearn.datasets import fetch_20newsgroups\n",
        "from sklearn.metrics import accuracy_score, precision_score, recall_score, f1_score\n",
        "\n",
        "import numpy as np\n",
        "\n",
        "import matplotlib.pyplot as plt\n",
        "%matplotlib inline\n",
        "\n",
        "import collections\n",
        "\n",
        "import torch\n",
        "from torch import nn\n",
        "from torch.nn import functional as F\n",
        "\n",
        "# import dlnlputils\n",
        "# from dlnlputils.data import tokenize_text_simple_regex, tokenize_corpus, build_vocabulary, \\\n",
        "#     vectorize_texts, SparseFeaturesDataset\n",
        "# from dlnlputils.pipeline import train_eval_loop, predict_with_model, init_random_seed\n",
        "\n",
        "# init_random_seed()"
      ]
    },
    {
      "cell_type": "markdown",
      "metadata": {
        "id": "w8HR8e4Z7Edn"
      },
      "source": [
        "## Предобработка текстов и подготовка признаков"
      ]
    },
    {
      "cell_type": "code",
      "execution_count": 3,
      "metadata": {
        "ExecuteTime": {
          "end_time": "2019-09-12T12:42:57.847399Z",
          "start_time": "2019-09-12T12:42:57.268037Z"
        },
        "id": "E4hdtL9Y7Edn",
        "outputId": "4aa3acc7-34cd-4f28-9e1e-43a3767dfbfa",
        "colab": {
          "base_uri": "https://localhost:8080/"
        }
      },
      "outputs": [
        {
          "output_type": "stream",
          "name": "stdout",
          "text": [
            "Количество обучающих текстов 11314\n",
            "Количество тестовых текстов 7532\n",
            "\n",
            "From: lerxst@wam.umd.edu (where's my thing)\n",
            "Subject: WHAT car is this!?\n",
            "Nntp-Posting-Host: rac3.wam.umd.edu\n",
            "Organization: University of Maryland, College Park\n",
            "Lines: 15\n",
            "\n",
            " I was wondering if anyone out there could enlighten me on this car I saw\n",
            "the other day. It was a 2-door sports car, looked to be from the late 60s/\n",
            "early 70s. It was called a Bricklin. The doors were really small. In addition,\n",
            "the front bumper was separate from the rest of the body. This is \n",
            "all I know. If anyone can tellme a model name, engine specs, years\n",
            "of production, where this car is made, history, or whatever info you\n",
            "have on this funky looking car, please e-mail.\n",
            "\n",
            "Thanks,\n",
            "- IL\n",
            "   ---- brought to you by your neighborhood Lerxst ----\n",
            "\n",
            "Метка 7\n"
          ]
        }
      ],
      "source": [
        "train_source = fetch_20newsgroups(subset='train')\n",
        "test_source = fetch_20newsgroups(subset='test')\n",
        "\n",
        "print('Количество обучающих текстов', len(train_source['data']))\n",
        "print('Количество тестовых текстов', len(test_source['data']))\n",
        "print()\n",
        "print(train_source['data'][0].strip())\n",
        "\n",
        "print()\n",
        "print('Метка', train_source['target'][0])"
      ]
    },
    {
      "cell_type": "code",
      "source": [
        "train_source.__dir__()"
      ],
      "metadata": {
        "id": "xq2Fr1-s_zen",
        "outputId": "d5e87e1b-c536-4ca1-cb0d-8d9dc2b1391e",
        "colab": {
          "base_uri": "https://localhost:8080/"
        }
      },
      "execution_count": 4,
      "outputs": [
        {
          "output_type": "execute_result",
          "data": {
            "text/plain": [
              "dict_keys(['data', 'filenames', 'target_names', 'target', 'DESCR'])"
            ]
          },
          "metadata": {},
          "execution_count": 4
        }
      ]
    },
    {
      "cell_type": "markdown",
      "metadata": {
        "id": "LE3lWK4D7Edn"
      },
      "source": [
        "### Подготовка признаков"
      ]
    },
    {
      "cell_type": "code",
      "execution_count": 5,
      "metadata": {
        "ExecuteTime": {
          "end_time": "2019-09-12T12:43:00.294422Z",
          "start_time": "2019-09-12T12:42:57.849386Z"
        },
        "id": "dsPCIneM7Edn"
      },
      "outputs": [],
      "source": [
        "# train_tokenized = tokenize_corpus(train_source['data'])\n",
        "# test_tokenized = tokenize_corpus(test_source['data'])\n",
        "\n",
        "# print(' '.join(train_tokenized[0]))"
      ]
    },
    {
      "cell_type": "code",
      "execution_count": 6,
      "metadata": {
        "ExecuteTime": {
          "end_time": "2019-09-12T12:43:00.825372Z",
          "start_time": "2019-09-12T12:43:00.297392Z"
        },
        "id": "QcYRdEID7Edn"
      },
      "outputs": [],
      "source": [
        "# # максимальная частотность слова в документе\n",
        "# MAX_DF = 0.8\n",
        "# MIN_COUNT = 5\n",
        "# vocabulary, word_doc_freq = build_vocabulary(train_tokenized, max_doc_freq=MAX_DF, min_count=MIN_COUNT)\n",
        "# UNIQUE_WORDS_N = len(vocabulary)\n",
        "# print('Количество уникальных токенов', UNIQUE_WORDS_N)\n",
        "# print(list(vocabulary.items())[:10])"
      ]
    },
    {
      "cell_type": "code",
      "execution_count": 7,
      "metadata": {
        "ExecuteTime": {
          "end_time": "2019-09-12T12:43:01.524600Z",
          "start_time": "2019-09-12T12:43:00.829107Z"
        },
        "id": "IH8eUiMW7Edo"
      },
      "outputs": [],
      "source": [
        "# plt.hist(word_doc_freq, bins=50)\n",
        "# plt.title('Распределение относительных частот слов')\n",
        "# plt.yscale('log');"
      ]
    },
    {
      "cell_type": "code",
      "execution_count": 8,
      "metadata": {
        "ExecuteTime": {
          "end_time": "2019-09-12T12:44:16.094816Z",
          "start_time": "2019-09-12T12:43:01.526554Z"
        },
        "id": "j0OSab_O7Edo"
      },
      "outputs": [],
      "source": [
        "# VECTORIZATION_MODE = 'tfidf'\n",
        "# train_vectors = vectorize_texts(train_tokenized, vocabulary, word_doc_freq, mode=VECTORIZATION_MODE)\n",
        "# test_vectors = vectorize_texts(test_tokenized, vocabulary, word_doc_freq, mode=VECTORIZATION_MODE)\n",
        "\n",
        "# print('Размерность матрицы признаков обучающей выборки', train_vectors.shape)\n",
        "# print('Размерность матрицы признаков тестовой выборки', test_vectors.shape)\n",
        "# print()\n",
        "# print('Количество ненулевых элементов в обучающей выборке', train_vectors.nnz)\n",
        "# print('Процент заполненности матрицы признаков {:.2f}%'.format(train_vectors.nnz * 100 / (train_vectors.shape[0] * train_vectors.shape[1])))\n",
        "# print()\n",
        "# print('Количество ненулевых элементов в тестовой выборке', test_vectors.nnz)\n",
        "# print('Процент заполненности матрицы признаков {:.2f}%'.format(test_vectors.nnz * 100 / (test_vectors.shape[0] * test_vectors.shape[1])))"
      ]
    },
    {
      "cell_type": "code",
      "execution_count": 9,
      "metadata": {
        "ExecuteTime": {
          "end_time": "2019-09-12T12:44:16.857114Z",
          "start_time": "2019-09-12T12:44:16.098773Z"
        },
        "id": "IFG5npZi7Edo"
      },
      "outputs": [],
      "source": [
        "# plt.hist(train_vectors.data, bins=20)\n",
        "# plt.title('Распределение весов признаков')\n",
        "# plt.yscale('log');"
      ]
    },
    {
      "cell_type": "markdown",
      "metadata": {
        "id": "9DfHNrY67Edo"
      },
      "source": [
        "### Распределение классов"
      ]
    },
    {
      "cell_type": "code",
      "execution_count": 10,
      "metadata": {
        "ExecuteTime": {
          "end_time": "2019-09-12T12:44:16.864960Z",
          "start_time": "2019-09-12T12:44:16.859476Z"
        },
        "id": "YxarJ1PP7Edo"
      },
      "outputs": [],
      "source": [
        "# UNIQUE_LABELS_N = len(set(train_source['target']))\n",
        "# print('Количество уникальных меток', UNIQUE_LABELS_N)"
      ]
    },
    {
      "cell_type": "code",
      "execution_count": 11,
      "metadata": {
        "ExecuteTime": {
          "end_time": "2019-09-12T12:44:17.106036Z",
          "start_time": "2019-09-12T12:44:16.867310Z"
        },
        "id": "wocePWmg7Edo"
      },
      "outputs": [],
      "source": [
        "# plt.hist(train_source['target'], bins=np.arange(0, 21))\n",
        "# plt.title('Распределение меток в обучающей выборке');"
      ]
    },
    {
      "cell_type": "code",
      "execution_count": 12,
      "metadata": {
        "ExecuteTime": {
          "end_time": "2019-09-12T12:44:17.312198Z",
          "start_time": "2019-09-12T12:44:17.109884Z"
        },
        "scrolled": true,
        "id": "jKp9sxhN7Edp"
      },
      "outputs": [],
      "source": [
        "# plt.hist(test_source['target'], bins=np.arange(0, 21))\n",
        "# plt.title('Распределение меток в тестовой выборке');"
      ]
    },
    {
      "cell_type": "markdown",
      "metadata": {
        "id": "oZZc9m6W7Edp"
      },
      "source": [
        "### PyTorch Dataset"
      ]
    },
    {
      "cell_type": "code",
      "source": [
        "# from torch.utils.data import Dataset\n",
        "\n",
        "# class SparseFeaturesDataset(Dataset):\n",
        "#     def __init__(self, features, targets):\n",
        "#         self.features = features\n",
        "#         self.targets = targets\n",
        "\n",
        "#     def __len__(self):\n",
        "#         return self.features.shape[0]\n",
        "\n",
        "#     def __getitem__(self, idx):\n",
        "#         # print(self.features[idx].toarray().shape)\n",
        "#         cur_features = torch.from_numpy(self.features[idx].toarray().squeeze()).float()\n",
        "#         cur_label = torch.from_numpy(np.asarray(self.targets[idx])).long()\n",
        "#         return cur_features, cur_label"
      ],
      "metadata": {
        "id": "yA5Bado3nyAn"
      },
      "execution_count": 13,
      "outputs": []
    },
    {
      "cell_type": "code",
      "execution_count": 14,
      "metadata": {
        "ExecuteTime": {
          "end_time": "2019-09-12T12:44:17.319292Z",
          "start_time": "2019-09-12T12:44:17.315074Z"
        },
        "id": "8bXrUqlV7Edp"
      },
      "outputs": [],
      "source": [
        "# train_dataset = SparseFeaturesDataset(train_vectors, train_source['target'])\n",
        "# test_dataset = SparseFeaturesDataset(test_vectors, test_source['target'])"
      ]
    },
    {
      "cell_type": "markdown",
      "metadata": {
        "id": "5Z0wPXcp7Edp"
      },
      "source": [
        "## Обучение модели на PyTorch"
      ]
    },
    {
      "cell_type": "code",
      "execution_count": 15,
      "metadata": {
        "ExecuteTime": {
          "end_time": "2019-09-12T12:46:22.371272Z",
          "start_time": "2019-09-12T12:44:17.322178Z"
        },
        "scrolled": false,
        "id": "wvZZp4j07Edp"
      },
      "outputs": [],
      "source": [
        "# model = nn.Linear(UNIQUE_WORDS_N, UNIQUE_LABELS_N)\n",
        "\n",
        "# scheduler = lambda optim: \\\n",
        "#     torch.optim.lr_scheduler.ReduceLROnPlateau(optim, patience=5, factor=0.5, verbose=True)\n",
        "\n",
        "# best_val_loss, best_model = train_eval_loop(model=model,\n",
        "#                                             train_dataset=train_dataset,\n",
        "#                                             val_dataset=test_dataset,\n",
        "#                                             criterion=F.cross_entropy,\n",
        "#                                             lr=1e-1,\n",
        "#                                             epoch_n=200,\n",
        "#                                             batch_size=32,\n",
        "#                                             l2_reg_alpha=0,\n",
        "#                                             lr_scheduler_ctor=scheduler)"
      ]
    },
    {
      "cell_type": "markdown",
      "metadata": {
        "id": "BLYEvbXW7Edp"
      },
      "source": [
        "## Оценка качества"
      ]
    },
    {
      "cell_type": "code",
      "execution_count": 16,
      "metadata": {
        "ExecuteTime": {
          "end_time": "2019-09-12T12:46:25.105663Z",
          "start_time": "2019-09-12T12:46:22.373012Z"
        },
        "id": "KP4e-1fL7Edp"
      },
      "outputs": [],
      "source": [
        "# train_pred = predict_with_model(best_model, train_dataset)\n",
        "\n",
        "# train_loss = F.cross_entropy(torch.from_numpy(train_pred),\n",
        "#                              torch.from_numpy(train_source['target']).long())\n",
        "\n",
        "# print('Среднее значение функции потерь на обучении', float(train_loss))\n",
        "# print('Доля верных ответов', accuracy_score(train_source['target'], train_pred.argmax(-1)))\n",
        "# print()\n",
        "\n",
        "\n",
        "\n",
        "# test_pred = predict_with_model(best_model, test_dataset)\n",
        "\n",
        "# test_loss = F.cross_entropy(torch.from_numpy(test_pred),\n",
        "#                             torch.from_numpy(test_source['target']).long())\n",
        "\n",
        "# print('Среднее значение функции потерь на валидации', float(test_loss))\n",
        "# print('Доля верных ответов', accuracy_score(test_source['target'], test_pred.argmax(-1)))"
      ]
    },
    {
      "cell_type": "markdown",
      "source": [
        "## Оценка качества - precision и recall"
      ],
      "metadata": {
        "id": "Q3ejBllrlNUO"
      }
    },
    {
      "cell_type": "code",
      "execution_count": 17,
      "metadata": {
        "id": "F0-bHbQ0lNUP"
      },
      "outputs": [],
      "source": [
        "# print('Precision', precision_score(train_source['target'], train_pred.argmax(-1), average=\"weighted\"))\n",
        "# print('Recall', recall_score(train_source['target'], train_pred.argmax(-1), average=\"weighted\"))\n",
        "# print('F1score', f1_score(train_source['target'], train_pred.argmax(-1), average=\"weighted\"))"
      ]
    },
    {
      "cell_type": "code",
      "source": [
        "# print('Precision', precision_score(test_source['target'], test_pred.argmax(-1), average=\"weighted\"))\n",
        "# print('Recall', recall_score(test_source['target'], test_pred.argmax(-1), average=\"weighted\"))\n",
        "# print('F1score', f1_score(test_source['target'], test_pred.argmax(-1), average=\"weighted\"))"
      ],
      "metadata": {
        "id": "i6X4vEInm5LK"
      },
      "execution_count": 18,
      "outputs": []
    },
    {
      "cell_type": "markdown",
      "metadata": {
        "id": "2TlXgnC_7Edp"
      },
      "source": [
        "# Альтернативная реализация на scikit-learn"
      ]
    },
    {
      "cell_type": "code",
      "execution_count": 19,
      "metadata": {
        "ExecuteTime": {
          "end_time": "2019-09-12T12:46:31.791405Z",
          "start_time": "2019-09-12T12:46:25.107897Z"
        },
        "scrolled": false,
        "id": "W79LUpIb7Edp"
      },
      "outputs": [],
      "source": [
        "# from sklearn.feature_extraction.text import TfidfVectorizer\n",
        "# from sklearn.pipeline import Pipeline\n",
        "# from sklearn.linear_model import LogisticRegression\n",
        "\n",
        "# sklearn_pipeline = Pipeline((('vect', TfidfVectorizer(tokenizer=tokenize_text_simple_regex,\n",
        "#                                                       max_df=MAX_DF,\n",
        "#                                                       min_df=MIN_COUNT)),\n",
        "#                              ('cls', LogisticRegression())))\n",
        "# sklearn_pipeline.fit(train_source['data'], train_source['target']);"
      ]
    },
    {
      "cell_type": "markdown",
      "metadata": {
        "id": "gcYeJlk_7Edp"
      },
      "source": [
        "## Оценка качества"
      ]
    },
    {
      "cell_type": "code",
      "execution_count": 20,
      "metadata": {
        "ExecuteTime": {
          "end_time": "2019-09-12T12:46:35.454567Z",
          "start_time": "2019-09-12T12:46:31.792832Z"
        },
        "id": "Xrs1xrTU7Edq"
      },
      "outputs": [],
      "source": [
        "# sklearn_train_pred = sklearn_pipeline.predict_proba(train_source['data'])\n",
        "# sklearn_train_loss = F.cross_entropy(torch.from_numpy(sklearn_train_pred),\n",
        "#                                                  torch.from_numpy(train_source['target']))\n",
        "# print('Среднее значение функции потерь на обучении', float(sklearn_train_loss))\n",
        "# print('Доля верных ответов', accuracy_score(train_source['target'], sklearn_train_pred.argmax(-1)))\n",
        "# print()\n",
        "\n",
        "# sklearn_test_pred = sklearn_pipeline.predict_proba(test_source['data'])\n",
        "# sklearn_test_loss = F.cross_entropy(torch.from_numpy(sklearn_test_pred),\n",
        "#                                                 torch.from_numpy(test_source['target']))\n",
        "# print('Среднее значение функции потерь на валидации', float(sklearn_test_loss))\n",
        "# print('Доля верных ответов', accuracy_score(test_source['target'], sklearn_test_pred.argmax(-1)))"
      ]
    },
    {
      "cell_type": "markdown",
      "source": [
        "## Оценка качества - precision и recall"
      ],
      "metadata": {
        "id": "1bmmqysej1t-"
      }
    },
    {
      "cell_type": "code",
      "execution_count": 21,
      "metadata": {
        "id": "z2-byzsu7Edq"
      },
      "outputs": [],
      "source": [
        "# print('Precision', precision_score(train_source['target'], sklearn_train_pred.argmax(-1), average=\"weighted\"))\n",
        "# print('Recall', recall_score(train_source['target'], sklearn_train_pred.argmax(-1), average=\"weighted\"))\n",
        "# print('F1score', f1_score(train_source['target'], sklearn_train_pred.argmax(-1), average=\"weighted\"))"
      ]
    },
    {
      "cell_type": "code",
      "source": [
        "# print('Precision', precision_score(test_source['target'], sklearn_test_pred.argmax(-1), average=\"weighted\"))\n",
        "# print('Recall', recall_score(test_source['target'], sklearn_test_pred.argmax(-1), average=\"weighted\"))\n",
        "# print('F1score', f1_score(test_source['target'], sklearn_test_pred.argmax(-1), average=\"weighted\"))"
      ],
      "metadata": {
        "id": "1nLFVR_0nHry"
      },
      "execution_count": 22,
      "outputs": []
    },
    {
      "cell_type": "markdown",
      "source": [
        "## TODO:\n",
        "Поэкспериментировать с собственноручно написанной моделью и попытаться уменьшить эффект переобучения\n",
        "- Обработка данных:\n",
        "-- N-грамы, лемматизацию, токенизацию\n",
        "-- HashigVectorizer или StandardScaler\n",
        "-- Векторизация на основе PMI (Pointwise mutual information)"
      ],
      "metadata": {
        "id": "2BQ5oM30wuz0"
      }
    },
    {
      "cell_type": "markdown",
      "source": [],
      "metadata": {
        "id": "wQbccRiXFa4s"
      }
    },
    {
      "cell_type": "markdown",
      "source": [
        "Пробуем TfIDF векторизацию для 1-3-грам с токенизацией c лемматизацией(не показала себя) и скейлингом"
      ],
      "metadata": {
        "id": "HcRKQqUb09iM"
      }
    },
    {
      "cell_type": "markdown",
      "source": [
        "Давайте хотя бы взглянем а какие классы текстов у нас есть"
      ],
      "metadata": {
        "id": "q1_W6hxgcpLq"
      }
    },
    {
      "cell_type": "code",
      "source": [
        "from nltk.tokenize import RegexpTokenizer\n",
        "tokenizer = RegexpTokenizer(r'\\w+')\n",
        "\n",
        "import nltk"
      ],
      "metadata": {
        "id": "5pIXnYBt1Aeb"
      },
      "execution_count": 23,
      "outputs": []
    },
    {
      "cell_type": "code",
      "source": [
        "type(train_source['data'])\n",
        "train_corpus = train_source['data']\n",
        "test_corpus = test_source['data']"
      ],
      "metadata": {
        "id": "NCs1Yluj4dWw"
      },
      "execution_count": 24,
      "outputs": []
    },
    {
      "cell_type": "code",
      "source": [
        "class VECTORIZATION_CONSTS:\n",
        "  def __init__(self):\n",
        "    self.MAX_DF=0.8\n",
        "    self.MIN_DF=5\n",
        "    self.NGRAM_RANGE=(1,2)\n",
        "\n",
        "VECT_CONSTS = VECTORIZATION_CONSTS()"
      ],
      "metadata": {
        "id": "DzTjp2fHGamB"
      },
      "execution_count": 25,
      "outputs": []
    },
    {
      "cell_type": "code",
      "source": [
        "VECT_CONSTS.MAX_DF"
      ],
      "metadata": {
        "colab": {
          "base_uri": "https://localhost:8080/"
        },
        "id": "kABS0GjWHPFv",
        "outputId": "f7b16a37-3140-458a-8375-640f98ad366d"
      },
      "execution_count": 26,
      "outputs": [
        {
          "output_type": "execute_result",
          "data": {
            "text/plain": [
              "0.8"
            ]
          },
          "metadata": {},
          "execution_count": 26
        }
      ]
    },
    {
      "cell_type": "code",
      "source": [
        "# import nltk\n",
        "# nltk.download('wordnet')\n",
        "# from nltk.stem import WordNetLemmatizer\n",
        "# lemmatizer = WordNetLemmatizer()"
      ],
      "metadata": {
        "id": "w3EIA5Qk5Kkn"
      },
      "execution_count": 27,
      "outputs": []
    },
    {
      "cell_type": "code",
      "source": [
        "from sklearn.base import BaseEstimator, TransformerMixin\n",
        "from scipy.sparse import issparse\n",
        "\n",
        "class ColumnNormalizer(BaseEstimator, TransformerMixin):\n",
        "    def fit(self, X, y=None):\n",
        "        return self\n",
        "\n",
        "    def transform(self, X):\n",
        "        if issparse(X):\n",
        "            # Normalize each column of the sparse matrix\n",
        "            X = X.tocsc()\n",
        "            col_norms = np.sqrt(X.multiply(X).sum(axis=0))\n",
        "            col_norms[col_norms == 0] = 1  # Avoid division by zero\n",
        "            X /= col_norms\n",
        "            return X.tocsr()\n",
        "        else:\n",
        "            # If X is not sparse, you can use StandardScaler\n",
        "            scaler = StandardScaler(with_mean=False)\n",
        "            return scaler.fit_transform(X)"
      ],
      "metadata": {
        "id": "hVXAG6mzY5Ax"
      },
      "execution_count": 28,
      "outputs": []
    },
    {
      "cell_type": "code",
      "source": [
        "# from sklearn.pipeline import Pipeline\n",
        "# from sklearn.preprocessing import StandardScaler\n",
        "# matrix = np.array([[1, 2, 3],\n",
        "#                    [4, 5, 6],\n",
        "#                    [7, 8, 9]])\n",
        "\n",
        "# # Define the pipeline\n",
        "# pipeline = Pipeline([\n",
        "#     ('normalizer', ColumnNormalizer()),\n",
        "# ])\n",
        "\n",
        "# # Apply the pipeline to the matrix\n",
        "# normalized_matrix = pipeline.fit_transform(matrix)\n",
        "\n",
        "# print(normalized_matrix)"
      ],
      "metadata": {
        "id": "oiFEYp9DZKSX"
      },
      "execution_count": 29,
      "outputs": []
    },
    {
      "cell_type": "markdown",
      "source": [
        "## Идея:\n",
        "- А почему бы перед использованием логистической регрессии не применить PCA к матрице текстов TF-IDF?\n",
        "1. Классический PCA из sklearn не работает с sparse matrix,\n",
        "\n",
        "2. Потому пользуемся альтернативой -  TruncatedSVD (концептуально все точно так же)"
      ],
      "metadata": {
        "id": "39-blHtSz0ud"
      }
    },
    {
      "cell_type": "code",
      "source": [
        "class PCA_CONSTS:\n",
        "  def __init__(self):\n",
        "    self.n_components=[100*i for i in range(1, 20+1)]\n",
        "\n",
        "PCA_CONSTS_ = PCA_CONSTS()"
      ],
      "metadata": {
        "id": "H5nucdHu07hA"
      },
      "execution_count": 37,
      "outputs": []
    },
    {
      "cell_type": "code",
      "source": [
        "PCA_CONSTS_.n_components"
      ],
      "metadata": {
        "colab": {
          "base_uri": "https://localhost:8080/"
        },
        "id": "dJdbo03V8reC",
        "outputId": "ba1b18cc-f20a-4837-db30-f84d66405e1a"
      },
      "execution_count": 38,
      "outputs": [
        {
          "output_type": "execute_result",
          "data": {
            "text/plain": [
              "[100,\n",
              " 200,\n",
              " 300,\n",
              " 400,\n",
              " 500,\n",
              " 600,\n",
              " 700,\n",
              " 800,\n",
              " 900,\n",
              " 1000,\n",
              " 1100,\n",
              " 1200,\n",
              " 1300,\n",
              " 1400,\n",
              " 1500,\n",
              " 1600,\n",
              " 1700,\n",
              " 1800,\n",
              " 1900,\n",
              " 2000]"
            ]
          },
          "metadata": {},
          "execution_count": 38
        }
      ]
    },
    {
      "cell_type": "code",
      "source": [
        "# from sklearn.feature_extraction.text import TfidfVectorizer\n",
        "# tfidf_2vec = TfidfVectorizer(\n",
        "#     tokenizer=tokenizer.tokenize,\n",
        "#     max_df=VECT_CONSTS.MAX_DF,\n",
        "#     min_df=VECT_CONSTS.MIN_DF,\n",
        "#     ngram_range=VECT_CONSTS.NGRAM_RANGE,\n",
        "#     # preprocessor=lemmatizer_wiht_pos_tag\n",
        "# )\n",
        "\n",
        "# tfidf_2vec.fit_transform(train_source['data'])"
      ],
      "metadata": {
        "id": "YUMgAaXHK6VY"
      },
      "execution_count": 32,
      "outputs": []
    },
    {
      "cell_type": "code",
      "source": [
        "from sklearn.decomposition import TruncatedSVD\n",
        "\n",
        "from sklearn.feature_extraction.text import TfidfVectorizer\n",
        "from sklearn.preprocessing import StandardScaler\n",
        "\n",
        "from sklearn.pipeline import Pipeline\n",
        "\n",
        "from sklearn.model_selection import GridSearchCV\n",
        "\n",
        "from sklearn.linear_model import LogisticRegression\n",
        "\n",
        "from sklearn.metrics import f1_score, make_scorer\n",
        "\n",
        "\n",
        "f1 = make_scorer(f1_score , average='weighted')"
      ],
      "metadata": {
        "id": "D5wdjvrOaxd8"
      },
      "execution_count": 33,
      "outputs": []
    },
    {
      "cell_type": "code",
      "source": [
        "# # pipeline_basic = Pipeline([\n",
        "# #     ('vect', TfidfVectorizer(\n",
        "# #       tokenizer=tokenizer.tokenize,\n",
        "# #     max_df=VECT_CONSTS.MAX_DF,\n",
        "# #     min_df=VECT_CONSTS.MIN_DF,\n",
        "# #     ngram_range=VECT_CONSTS.NGRAM_RANGE,\n",
        "# #     # norm=None,\n",
        "# #     # preprocessor=lemmatizer_wiht_pos_tag\n",
        "# #     )),\n",
        "\n",
        "# #     ('norm',\n",
        "# #     #  StandardScaler(with_mean=False)\n",
        "# #      ColumnNormalizer()\n",
        "# #     ),\n",
        "\n",
        "# #     ('cls', LogisticRegression(penalty='elasticnet', l1_ratio=0.5, solver='saga', max_iter=20))\n",
        "# #     ])\n",
        "# # sklearn_pipeline_basic.fit(train_source['data'], train_source['target']);\n",
        "\n",
        "# pipeline_pca_gs = Pipeline([\n",
        "#     ('vect', TfidfVectorizer(\n",
        "#       tokenizer=tokenizer.tokenize,\n",
        "#     max_df=VECT_CONSTS.MAX_DF,\n",
        "#     min_df=VECT_CONSTS.MIN_DF,\n",
        "#     ngram_range=VECT_CONSTS.NGRAM_RANGE,\n",
        "#     # norm=None,\n",
        "#     # preprocessor=lemmatizer_wiht_pos_tag\n",
        "#     )),\n",
        "\n",
        "#     # ('norm',\n",
        "#     # #  StandardScaler(with_mean=False)\n",
        "#     #  ColumnNormalizer()\n",
        "#     # ),\n",
        "\n",
        "#     # используем GridSearch для выбора оптимальной размерности TruncatedSVD (PCA для разреженных матриц)\n",
        "#     ('cls_with_pca_gs',\n",
        "#      GridSearchCV(Pipeline([\n",
        "#       ('pca', TruncatedSVD()),\n",
        "#       ('cls', LogisticRegression(max_iter=20))\n",
        "#       ]),\n",
        "#         param_grid={'pca__n_components': PCA_CONSTS_.n_components},\n",
        "#         scoring=f1,\n",
        "#         verbose=3,  # Set verbose to 1 for detailed logging\n",
        "#         n_jobs=1  # Use multiple cores for faster grid search\n",
        "#       ))\n",
        "#     ])\n",
        "\n",
        "# pipeline_pca_gs.fit(train_source['data'], train_source['target']);"
      ],
      "metadata": {
        "id": "9lLhhjy95y3F"
      },
      "execution_count": 34,
      "outputs": []
    },
    {
      "cell_type": "code",
      "source": [
        "i = 15\n",
        "\n",
        "print('Число главных компонент:', PCA_CONSTS_.n_components[i], sep=' ')"
      ],
      "metadata": {
        "colab": {
          "base_uri": "https://localhost:8080/"
        },
        "id": "DyPx5TcPKvZN",
        "outputId": "6bbab95e-9d5d-4437-b79c-73b4072f51fb"
      },
      "execution_count": 54,
      "outputs": [
        {
          "output_type": "stream",
          "name": "stdout",
          "text": [
            "Число главных компонент: 1600\n"
          ]
        }
      ]
    },
    {
      "cell_type": "code",
      "source": [
        "# best_cls = pipeline_pca_gs\n",
        "best_cls = Pipeline([\n",
        "    ('vect', TfidfVectorizer(\n",
        "      tokenizer=tokenizer.tokenize,\n",
        "    max_df=VECT_CONSTS.MAX_DF,\n",
        "    min_df=VECT_CONSTS.MIN_DF,\n",
        "    ngram_range=VECT_CONSTS.NGRAM_RANGE,\n",
        "    # norm=None,\n",
        "    # preprocessor=lemmatizer_wiht_pos_tag\n",
        "    )),\n",
        "\n",
        "    ('norm',\n",
        "     StandardScaler(with_mean=False)\n",
        "    #  ColumnNormalizer()\n",
        "    ),\n",
        "\n",
        "    ('pca', TruncatedSVD(n_components=PCA_CONSTS_.n_components[i], algorithm='arpack')),\n",
        "    ('cls', LogisticRegression(penalty='elasticnet', l1_ratio=0.5, solver='saga', max_iter=20))\n",
        "], verbose=True)\n",
        "\n",
        "best_cls.fit(train_source['data'], train_source['target']);"
      ],
      "metadata": {
        "id": "oiCZVlEP98aW",
        "colab": {
          "base_uri": "https://localhost:8080/"
        },
        "outputId": "3c4bc4c8-4492-4143-f524-2a31453b354f"
      },
      "execution_count": null,
      "outputs": [
        {
          "output_type": "stream",
          "name": "stdout",
          "text": [
            "[Pipeline] .............. (step 1 of 4) Processing vect, total=  13.7s\n",
            "[Pipeline] .............. (step 2 of 4) Processing norm, total=   0.3s\n"
          ]
        }
      ]
    },
    {
      "cell_type": "code",
      "source": [
        "sklearn_train_pred = best_cls.predict_proba(train_source['data'])\n",
        "sklearn_train_loss = F.cross_entropy(torch.from_numpy(sklearn_train_pred),\n",
        "                                                 torch.from_numpy(train_source['target']))\n",
        "print('Среднее значение функции потерь на обучении', float(sklearn_train_loss))\n",
        "print('Доля верных ответов', accuracy_score(train_source['target'], sklearn_train_pred.argmax(-1)))\n",
        "print()\n",
        "\n",
        "sklearn_test_pred = best_cls.predict_proba(test_source['data'])\n",
        "sklearn_test_loss = F.cross_entropy(torch.from_numpy(sklearn_test_pred),\n",
        "                                                torch.from_numpy(test_source['target']))\n",
        "print('Среднее значение функции потерь на валидации', float(sklearn_test_loss))\n",
        "print('Доля верных ответов', accuracy_score(test_source['target'], sklearn_test_pred.argmax(-1)))"
      ],
      "metadata": {
        "id": "liWQ2tz9Hkp4"
      },
      "execution_count": null,
      "outputs": []
    },
    {
      "cell_type": "markdown",
      "source": [
        "увы, просто логрег после pca показывает себя очень плохо: для достижения результата в 80% необходимо 2000 главных компонент <br> :("
      ],
      "metadata": {
        "id": "eildgwI2bGwZ"
      }
    }
  ],
  "metadata": {
    "kernelspec": {
      "display_name": "Python 3",
      "name": "python3"
    },
    "language_info": {
      "codemirror_mode": {
        "name": "ipython",
        "version": 3
      },
      "file_extension": ".py",
      "mimetype": "text/x-python",
      "name": "python",
      "nbconvert_exporter": "python",
      "pygments_lexer": "ipython3",
      "version": "3.6.9"
    },
    "latex_envs": {
      "LaTeX_envs_menu_present": true,
      "autoclose": false,
      "autocomplete": true,
      "bibliofile": "biblio.bib",
      "cite_by": "apalike",
      "current_citInitial": 1,
      "eqLabelWithNumbers": true,
      "eqNumInitial": 1,
      "hotkeys": {
        "equation": "Ctrl-E",
        "itemize": "Ctrl-I"
      },
      "labels_anchors": false,
      "latex_user_defs": false,
      "report_style_numbering": false,
      "user_envs_cfg": false
    },
    "toc": {
      "base_numbering": 1,
      "nav_menu": {},
      "number_sections": true,
      "sideBar": true,
      "skip_h1_title": false,
      "title_cell": "Table of Contents",
      "title_sidebar": "Contents",
      "toc_cell": false,
      "toc_position": {},
      "toc_section_display": true,
      "toc_window_display": true
    },
    "colab": {
      "provenance": []
    }
  },
  "nbformat": 4,
  "nbformat_minor": 0
}