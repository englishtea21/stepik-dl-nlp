{
  "cells": [
    {
      "cell_type": "markdown",
      "metadata": {
        "id": "view-in-github",
        "colab_type": "text"
      },
      "source": [
        "<a href=\"https://colab.research.google.com/github/englishtea21/stepik-dl-nlp/blob/master/task2_word_embeddings.ipynb\" target=\"_parent\"><img src=\"https://colab.research.google.com/assets/colab-badge.svg\" alt=\"Open In Colab\"/></a>"
      ]
    },
    {
      "cell_type": "markdown",
      "metadata": {
        "id": "-dLZ_Q-RQFhm"
      },
      "source": [
        "# Word2Vec"
      ]
    },
    {
      "cell_type": "code",
      "execution_count": 2,
      "metadata": {
        "colab": {
          "base_uri": "https://localhost:8080/"
        },
        "id": "zymom8xfQFho",
        "outputId": "085e9d94-65f7-454f-d2a6-b4b97ac3d09c"
      },
      "outputs": [
        {
          "output_type": "stream",
          "name": "stdout",
          "text": [
            "Cloning into 'stepik-dl-nlp'...\n",
            "remote: Enumerating objects: 296, done.\u001b[K\n",
            "remote: Counting objects: 100% (3/3), done.\u001b[K\n",
            "remote: Compressing objects: 100% (3/3), done.\u001b[K\n",
            "remote: Total 296 (delta 0), reused 0 (delta 0), pack-reused 293\u001b[K\n",
            "Receiving objects: 100% (296/296), 42.30 MiB | 12.11 MiB/s, done.\n",
            "Resolving deltas: 100% (134/134), done.\n",
            "Requirement already satisfied: scikit-learn in /usr/local/lib/python3.10/dist-packages (from -r stepik-dl-nlp/requirements.txt (line 1)) (1.2.2)\n",
            "Collecting spacy-udpipe (from -r stepik-dl-nlp/requirements.txt (line 2))\n",
            "  Downloading spacy_udpipe-1.0.0-py3-none-any.whl (11 kB)\n",
            "Collecting pymorphy2 (from -r stepik-dl-nlp/requirements.txt (line 3))\n",
            "  Downloading pymorphy2-0.9.1-py3-none-any.whl (55 kB)\n",
            "\u001b[2K     \u001b[90m━━━━━━━━━━━━━━━━━━━━━━━━━━━━━━━━━━━━━━━━\u001b[0m \u001b[32m55.5/55.5 kB\u001b[0m \u001b[31m2.6 MB/s\u001b[0m eta \u001b[36m0:00:00\u001b[0m\n",
            "\u001b[?25hRequirement already satisfied: torch>=1.2 in /usr/local/lib/python3.10/dist-packages (from -r stepik-dl-nlp/requirements.txt (line 4)) (2.3.0+cu121)\n",
            "Requirement already satisfied: matplotlib in /usr/local/lib/python3.10/dist-packages (from -r stepik-dl-nlp/requirements.txt (line 5)) (3.7.1)\n",
            "Collecting ipymarkup (from -r stepik-dl-nlp/requirements.txt (line 6))\n",
            "  Downloading ipymarkup-0.9.0-py3-none-any.whl (14 kB)\n",
            "Requirement already satisfied: lxml in /usr/local/lib/python3.10/dist-packages (from -r stepik-dl-nlp/requirements.txt (line 7)) (4.9.4)\n",
            "Requirement already satisfied: scipy in /usr/local/lib/python3.10/dist-packages (from -r stepik-dl-nlp/requirements.txt (line 8)) (1.11.4)\n",
            "Requirement already satisfied: pandas in /usr/local/lib/python3.10/dist-packages (from -r stepik-dl-nlp/requirements.txt (line 9)) (2.0.3)\n",
            "Requirement already satisfied: tqdm in /usr/local/lib/python3.10/dist-packages (from -r stepik-dl-nlp/requirements.txt (line 10)) (4.66.4)\n",
            "Collecting youtokentome (from -r stepik-dl-nlp/requirements.txt (line 11))\n",
            "  Downloading youtokentome-1.0.6.tar.gz (86 kB)\n",
            "\u001b[2K     \u001b[90m━━━━━━━━━━━━━━━━━━━━━━━━━━━━━━━━━━━━━━━━\u001b[0m \u001b[32m86.7/86.7 kB\u001b[0m \u001b[31m7.7 MB/s\u001b[0m eta \u001b[36m0:00:00\u001b[0m\n",
            "\u001b[?25h  Preparing metadata (setup.py) ... \u001b[?25l\u001b[?25hdone\n",
            "Requirement already satisfied: seaborn in /usr/local/lib/python3.10/dist-packages (from -r stepik-dl-nlp/requirements.txt (line 12)) (0.13.1)\n",
            "Requirement already satisfied: ipykernel in /usr/local/lib/python3.10/dist-packages (from -r stepik-dl-nlp/requirements.txt (line 13)) (5.5.6)\n",
            "Requirement already satisfied: ipython in /usr/local/lib/python3.10/dist-packages (from -r stepik-dl-nlp/requirements.txt (line 14)) (7.34.0)\n",
            "Collecting pyconll (from -r stepik-dl-nlp/requirements.txt (line 15))\n",
            "  Downloading pyconll-3.2.0-py3-none-any.whl (27 kB)\n",
            "Collecting gensim==3.8.1 (from -r stepik-dl-nlp/requirements.txt (line 16))\n",
            "  Downloading gensim-3.8.1.tar.gz (23.4 MB)\n",
            "\u001b[2K     \u001b[90m━━━━━━━━━━━━━━━━━━━━━━━━━━━━━━━━━━━━━━━━\u001b[0m \u001b[32m23.4/23.4 MB\u001b[0m \u001b[31m22.5 MB/s\u001b[0m eta \u001b[36m0:00:00\u001b[0m\n",
            "\u001b[?25h  Preparing metadata (setup.py) ... \u001b[?25l\u001b[?25hdone\n",
            "Collecting wget (from -r stepik-dl-nlp/requirements.txt (line 17))\n",
            "  Downloading wget-3.2.zip (10 kB)\n",
            "  Preparing metadata (setup.py) ... \u001b[?25l\u001b[?25hdone\n",
            "Collecting livelossplot==0.5.3 (from -r stepik-dl-nlp/requirements.txt (line 18))\n",
            "  Downloading livelossplot-0.5.3-py3-none-any.whl (30 kB)\n",
            "Requirement already satisfied: numpy>=1.11.3 in /usr/local/lib/python3.10/dist-packages (from gensim==3.8.1->-r stepik-dl-nlp/requirements.txt (line 16)) (1.25.2)\n",
            "Requirement already satisfied: six>=1.5.0 in /usr/local/lib/python3.10/dist-packages (from gensim==3.8.1->-r stepik-dl-nlp/requirements.txt (line 16)) (1.16.0)\n",
            "Requirement already satisfied: smart_open>=1.8.1 in /usr/local/lib/python3.10/dist-packages (from gensim==3.8.1->-r stepik-dl-nlp/requirements.txt (line 16)) (7.0.4)\n",
            "Requirement already satisfied: bokeh in /usr/local/lib/python3.10/dist-packages (from livelossplot==0.5.3->-r stepik-dl-nlp/requirements.txt (line 18)) (3.3.4)\n",
            "Requirement already satisfied: joblib>=1.1.1 in /usr/local/lib/python3.10/dist-packages (from scikit-learn->-r stepik-dl-nlp/requirements.txt (line 1)) (1.4.2)\n",
            "Requirement already satisfied: threadpoolctl>=2.0.0 in /usr/local/lib/python3.10/dist-packages (from scikit-learn->-r stepik-dl-nlp/requirements.txt (line 1)) (3.5.0)\n",
            "Requirement already satisfied: spacy<4.0.0,>=3.0.0 in /usr/local/lib/python3.10/dist-packages (from spacy-udpipe->-r stepik-dl-nlp/requirements.txt (line 2)) (3.7.5)\n",
            "Collecting ufal.udpipe>=1.2.0 (from spacy-udpipe->-r stepik-dl-nlp/requirements.txt (line 2))\n",
            "  Downloading ufal.udpipe-1.3.1.1-cp310-cp310-manylinux_2_17_x86_64.manylinux2014_x86_64.whl (936 kB)\n",
            "\u001b[2K     \u001b[90m━━━━━━━━━━━━━━━━━━━━━━━━━━━━━━━━━━━━━━━━\u001b[0m \u001b[32m936.8/936.8 kB\u001b[0m \u001b[31m74.0 MB/s\u001b[0m eta \u001b[36m0:00:00\u001b[0m\n",
            "\u001b[?25hCollecting dawg-python>=0.7.1 (from pymorphy2->-r stepik-dl-nlp/requirements.txt (line 3))\n",
            "  Downloading DAWG_Python-0.7.2-py2.py3-none-any.whl (11 kB)\n",
            "Collecting pymorphy2-dicts-ru<3.0,>=2.4 (from pymorphy2->-r stepik-dl-nlp/requirements.txt (line 3))\n",
            "  Downloading pymorphy2_dicts_ru-2.4.417127.4579844-py2.py3-none-any.whl (8.2 MB)\n",
            "\u001b[2K     \u001b[90m━━━━━━━━━━━━━━━━━━━━━━━━━━━━━━━━━━━━━━━━\u001b[0m \u001b[32m8.2/8.2 MB\u001b[0m \u001b[31m87.4 MB/s\u001b[0m eta \u001b[36m0:00:00\u001b[0m\n",
            "\u001b[?25hCollecting docopt>=0.6 (from pymorphy2->-r stepik-dl-nlp/requirements.txt (line 3))\n",
            "  Downloading docopt-0.6.2.tar.gz (25 kB)\n",
            "  Preparing metadata (setup.py) ... \u001b[?25l\u001b[?25hdone\n",
            "Requirement already satisfied: filelock in /usr/local/lib/python3.10/dist-packages (from torch>=1.2->-r stepik-dl-nlp/requirements.txt (line 4)) (3.15.4)\n",
            "Requirement already satisfied: typing-extensions>=4.8.0 in /usr/local/lib/python3.10/dist-packages (from torch>=1.2->-r stepik-dl-nlp/requirements.txt (line 4)) (4.12.2)\n",
            "Requirement already satisfied: sympy in /usr/local/lib/python3.10/dist-packages (from torch>=1.2->-r stepik-dl-nlp/requirements.txt (line 4)) (1.13.0)\n",
            "Requirement already satisfied: networkx in /usr/local/lib/python3.10/dist-packages (from torch>=1.2->-r stepik-dl-nlp/requirements.txt (line 4)) (3.3)\n",
            "Requirement already satisfied: jinja2 in /usr/local/lib/python3.10/dist-packages (from torch>=1.2->-r stepik-dl-nlp/requirements.txt (line 4)) (3.1.4)\n",
            "Requirement already satisfied: fsspec in /usr/local/lib/python3.10/dist-packages (from torch>=1.2->-r stepik-dl-nlp/requirements.txt (line 4)) (2023.6.0)\n",
            "Collecting nvidia-cuda-nvrtc-cu12==12.1.105 (from torch>=1.2->-r stepik-dl-nlp/requirements.txt (line 4))\n",
            "  Using cached nvidia_cuda_nvrtc_cu12-12.1.105-py3-none-manylinux1_x86_64.whl (23.7 MB)\n",
            "Collecting nvidia-cuda-runtime-cu12==12.1.105 (from torch>=1.2->-r stepik-dl-nlp/requirements.txt (line 4))\n",
            "  Using cached nvidia_cuda_runtime_cu12-12.1.105-py3-none-manylinux1_x86_64.whl (823 kB)\n",
            "Collecting nvidia-cuda-cupti-cu12==12.1.105 (from torch>=1.2->-r stepik-dl-nlp/requirements.txt (line 4))\n",
            "  Using cached nvidia_cuda_cupti_cu12-12.1.105-py3-none-manylinux1_x86_64.whl (14.1 MB)\n",
            "Collecting nvidia-cudnn-cu12==8.9.2.26 (from torch>=1.2->-r stepik-dl-nlp/requirements.txt (line 4))\n",
            "  Using cached nvidia_cudnn_cu12-8.9.2.26-py3-none-manylinux1_x86_64.whl (731.7 MB)\n",
            "Collecting nvidia-cublas-cu12==12.1.3.1 (from torch>=1.2->-r stepik-dl-nlp/requirements.txt (line 4))\n",
            "  Using cached nvidia_cublas_cu12-12.1.3.1-py3-none-manylinux1_x86_64.whl (410.6 MB)\n",
            "Collecting nvidia-cufft-cu12==11.0.2.54 (from torch>=1.2->-r stepik-dl-nlp/requirements.txt (line 4))\n",
            "  Using cached nvidia_cufft_cu12-11.0.2.54-py3-none-manylinux1_x86_64.whl (121.6 MB)\n",
            "Collecting nvidia-curand-cu12==10.3.2.106 (from torch>=1.2->-r stepik-dl-nlp/requirements.txt (line 4))\n",
            "  Using cached nvidia_curand_cu12-10.3.2.106-py3-none-manylinux1_x86_64.whl (56.5 MB)\n",
            "Collecting nvidia-cusolver-cu12==11.4.5.107 (from torch>=1.2->-r stepik-dl-nlp/requirements.txt (line 4))\n",
            "  Using cached nvidia_cusolver_cu12-11.4.5.107-py3-none-manylinux1_x86_64.whl (124.2 MB)\n",
            "Collecting nvidia-cusparse-cu12==12.1.0.106 (from torch>=1.2->-r stepik-dl-nlp/requirements.txt (line 4))\n",
            "  Using cached nvidia_cusparse_cu12-12.1.0.106-py3-none-manylinux1_x86_64.whl (196.0 MB)\n",
            "Collecting nvidia-nccl-cu12==2.20.5 (from torch>=1.2->-r stepik-dl-nlp/requirements.txt (line 4))\n",
            "  Using cached nvidia_nccl_cu12-2.20.5-py3-none-manylinux2014_x86_64.whl (176.2 MB)\n",
            "Collecting nvidia-nvtx-cu12==12.1.105 (from torch>=1.2->-r stepik-dl-nlp/requirements.txt (line 4))\n",
            "  Using cached nvidia_nvtx_cu12-12.1.105-py3-none-manylinux1_x86_64.whl (99 kB)\n",
            "Requirement already satisfied: triton==2.3.0 in /usr/local/lib/python3.10/dist-packages (from torch>=1.2->-r stepik-dl-nlp/requirements.txt (line 4)) (2.3.0)\n",
            "Collecting nvidia-nvjitlink-cu12 (from nvidia-cusolver-cu12==11.4.5.107->torch>=1.2->-r stepik-dl-nlp/requirements.txt (line 4))\n",
            "  Downloading nvidia_nvjitlink_cu12-12.5.82-py3-none-manylinux2014_x86_64.whl (21.3 MB)\n",
            "\u001b[2K     \u001b[90m━━━━━━━━━━━━━━━━━━━━━━━━━━━━━━━━━━━━━━━━\u001b[0m \u001b[32m21.3/21.3 MB\u001b[0m \u001b[31m70.5 MB/s\u001b[0m eta \u001b[36m0:00:00\u001b[0m\n",
            "\u001b[?25hRequirement already satisfied: contourpy>=1.0.1 in /usr/local/lib/python3.10/dist-packages (from matplotlib->-r stepik-dl-nlp/requirements.txt (line 5)) (1.2.1)\n",
            "Requirement already satisfied: cycler>=0.10 in /usr/local/lib/python3.10/dist-packages (from matplotlib->-r stepik-dl-nlp/requirements.txt (line 5)) (0.12.1)\n",
            "Requirement already satisfied: fonttools>=4.22.0 in /usr/local/lib/python3.10/dist-packages (from matplotlib->-r stepik-dl-nlp/requirements.txt (line 5)) (4.53.1)\n",
            "Requirement already satisfied: kiwisolver>=1.0.1 in /usr/local/lib/python3.10/dist-packages (from matplotlib->-r stepik-dl-nlp/requirements.txt (line 5)) (1.4.5)\n",
            "Requirement already satisfied: packaging>=20.0 in /usr/local/lib/python3.10/dist-packages (from matplotlib->-r stepik-dl-nlp/requirements.txt (line 5)) (24.1)\n",
            "Requirement already satisfied: pillow>=6.2.0 in /usr/local/lib/python3.10/dist-packages (from matplotlib->-r stepik-dl-nlp/requirements.txt (line 5)) (9.4.0)\n",
            "Requirement already satisfied: pyparsing>=2.3.1 in /usr/local/lib/python3.10/dist-packages (from matplotlib->-r stepik-dl-nlp/requirements.txt (line 5)) (3.1.2)\n",
            "Requirement already satisfied: python-dateutil>=2.7 in /usr/local/lib/python3.10/dist-packages (from matplotlib->-r stepik-dl-nlp/requirements.txt (line 5)) (2.8.2)\n",
            "Collecting intervaltree>=3 (from ipymarkup->-r stepik-dl-nlp/requirements.txt (line 6))\n",
            "  Downloading intervaltree-3.1.0.tar.gz (32 kB)\n",
            "  Preparing metadata (setup.py) ... \u001b[?25l\u001b[?25hdone\n",
            "Requirement already satisfied: pytz>=2020.1 in /usr/local/lib/python3.10/dist-packages (from pandas->-r stepik-dl-nlp/requirements.txt (line 9)) (2023.4)\n",
            "Requirement already satisfied: tzdata>=2022.1 in /usr/local/lib/python3.10/dist-packages (from pandas->-r stepik-dl-nlp/requirements.txt (line 9)) (2024.1)\n",
            "Requirement already satisfied: Click>=7.0 in /usr/local/lib/python3.10/dist-packages (from youtokentome->-r stepik-dl-nlp/requirements.txt (line 11)) (8.1.7)\n",
            "Requirement already satisfied: ipython-genutils in /usr/local/lib/python3.10/dist-packages (from ipykernel->-r stepik-dl-nlp/requirements.txt (line 13)) (0.2.0)\n",
            "Requirement already satisfied: traitlets>=4.1.0 in /usr/local/lib/python3.10/dist-packages (from ipykernel->-r stepik-dl-nlp/requirements.txt (line 13)) (5.7.1)\n",
            "Requirement already satisfied: jupyter-client in /usr/local/lib/python3.10/dist-packages (from ipykernel->-r stepik-dl-nlp/requirements.txt (line 13)) (6.1.12)\n",
            "Requirement already satisfied: tornado>=4.2 in /usr/local/lib/python3.10/dist-packages (from ipykernel->-r stepik-dl-nlp/requirements.txt (line 13)) (6.3.3)\n",
            "Requirement already satisfied: setuptools>=18.5 in /usr/local/lib/python3.10/dist-packages (from ipython->-r stepik-dl-nlp/requirements.txt (line 14)) (67.7.2)\n",
            "Collecting jedi>=0.16 (from ipython->-r stepik-dl-nlp/requirements.txt (line 14))\n",
            "  Downloading jedi-0.19.1-py2.py3-none-any.whl (1.6 MB)\n",
            "\u001b[2K     \u001b[90m━━━━━━━━━━━━━━━━━━━━━━━━━━━━━━━━━━━━━━━━\u001b[0m \u001b[32m1.6/1.6 MB\u001b[0m \u001b[31m83.7 MB/s\u001b[0m eta \u001b[36m0:00:00\u001b[0m\n",
            "\u001b[?25hRequirement already satisfied: decorator in /usr/local/lib/python3.10/dist-packages (from ipython->-r stepik-dl-nlp/requirements.txt (line 14)) (4.4.2)\n",
            "Requirement already satisfied: pickleshare in /usr/local/lib/python3.10/dist-packages (from ipython->-r stepik-dl-nlp/requirements.txt (line 14)) (0.7.5)\n",
            "Requirement already satisfied: prompt-toolkit!=3.0.0,!=3.0.1,<3.1.0,>=2.0.0 in /usr/local/lib/python3.10/dist-packages (from ipython->-r stepik-dl-nlp/requirements.txt (line 14)) (3.0.47)\n",
            "Requirement already satisfied: pygments in /usr/local/lib/python3.10/dist-packages (from ipython->-r stepik-dl-nlp/requirements.txt (line 14)) (2.16.1)\n",
            "Requirement already satisfied: backcall in /usr/local/lib/python3.10/dist-packages (from ipython->-r stepik-dl-nlp/requirements.txt (line 14)) (0.2.0)\n",
            "Requirement already satisfied: matplotlib-inline in /usr/local/lib/python3.10/dist-packages (from ipython->-r stepik-dl-nlp/requirements.txt (line 14)) (0.1.7)\n",
            "Requirement already satisfied: pexpect>4.3 in /usr/local/lib/python3.10/dist-packages (from ipython->-r stepik-dl-nlp/requirements.txt (line 14)) (4.9.0)\n",
            "Requirement already satisfied: sortedcontainers<3.0,>=2.0 in /usr/local/lib/python3.10/dist-packages (from intervaltree>=3->ipymarkup->-r stepik-dl-nlp/requirements.txt (line 6)) (2.4.0)\n",
            "Requirement already satisfied: parso<0.9.0,>=0.8.3 in /usr/local/lib/python3.10/dist-packages (from jedi>=0.16->ipython->-r stepik-dl-nlp/requirements.txt (line 14)) (0.8.4)\n",
            "Requirement already satisfied: ptyprocess>=0.5 in /usr/local/lib/python3.10/dist-packages (from pexpect>4.3->ipython->-r stepik-dl-nlp/requirements.txt (line 14)) (0.7.0)\n",
            "Requirement already satisfied: wcwidth in /usr/local/lib/python3.10/dist-packages (from prompt-toolkit!=3.0.0,!=3.0.1,<3.1.0,>=2.0.0->ipython->-r stepik-dl-nlp/requirements.txt (line 14)) (0.2.13)\n",
            "Requirement already satisfied: wrapt in /usr/local/lib/python3.10/dist-packages (from smart_open>=1.8.1->gensim==3.8.1->-r stepik-dl-nlp/requirements.txt (line 16)) (1.14.1)\n",
            "Requirement already satisfied: spacy-legacy<3.1.0,>=3.0.11 in /usr/local/lib/python3.10/dist-packages (from spacy<4.0.0,>=3.0.0->spacy-udpipe->-r stepik-dl-nlp/requirements.txt (line 2)) (3.0.12)\n",
            "Requirement already satisfied: spacy-loggers<2.0.0,>=1.0.0 in /usr/local/lib/python3.10/dist-packages (from spacy<4.0.0,>=3.0.0->spacy-udpipe->-r stepik-dl-nlp/requirements.txt (line 2)) (1.0.5)\n",
            "Requirement already satisfied: murmurhash<1.1.0,>=0.28.0 in /usr/local/lib/python3.10/dist-packages (from spacy<4.0.0,>=3.0.0->spacy-udpipe->-r stepik-dl-nlp/requirements.txt (line 2)) (1.0.10)\n",
            "Requirement already satisfied: cymem<2.1.0,>=2.0.2 in /usr/local/lib/python3.10/dist-packages (from spacy<4.0.0,>=3.0.0->spacy-udpipe->-r stepik-dl-nlp/requirements.txt (line 2)) (2.0.8)\n",
            "Requirement already satisfied: preshed<3.1.0,>=3.0.2 in /usr/local/lib/python3.10/dist-packages (from spacy<4.0.0,>=3.0.0->spacy-udpipe->-r stepik-dl-nlp/requirements.txt (line 2)) (3.0.9)\n",
            "Requirement already satisfied: thinc<8.3.0,>=8.2.2 in /usr/local/lib/python3.10/dist-packages (from spacy<4.0.0,>=3.0.0->spacy-udpipe->-r stepik-dl-nlp/requirements.txt (line 2)) (8.2.5)\n",
            "Requirement already satisfied: wasabi<1.2.0,>=0.9.1 in /usr/local/lib/python3.10/dist-packages (from spacy<4.0.0,>=3.0.0->spacy-udpipe->-r stepik-dl-nlp/requirements.txt (line 2)) (1.1.3)\n",
            "Requirement already satisfied: srsly<3.0.0,>=2.4.3 in /usr/local/lib/python3.10/dist-packages (from spacy<4.0.0,>=3.0.0->spacy-udpipe->-r stepik-dl-nlp/requirements.txt (line 2)) (2.4.8)\n",
            "Requirement already satisfied: catalogue<2.1.0,>=2.0.6 in /usr/local/lib/python3.10/dist-packages (from spacy<4.0.0,>=3.0.0->spacy-udpipe->-r stepik-dl-nlp/requirements.txt (line 2)) (2.0.10)\n",
            "Requirement already satisfied: weasel<0.5.0,>=0.1.0 in /usr/local/lib/python3.10/dist-packages (from spacy<4.0.0,>=3.0.0->spacy-udpipe->-r stepik-dl-nlp/requirements.txt (line 2)) (0.4.1)\n",
            "Requirement already satisfied: typer<1.0.0,>=0.3.0 in /usr/local/lib/python3.10/dist-packages (from spacy<4.0.0,>=3.0.0->spacy-udpipe->-r stepik-dl-nlp/requirements.txt (line 2)) (0.12.3)\n",
            "Requirement already satisfied: requests<3.0.0,>=2.13.0 in /usr/local/lib/python3.10/dist-packages (from spacy<4.0.0,>=3.0.0->spacy-udpipe->-r stepik-dl-nlp/requirements.txt (line 2)) (2.31.0)\n",
            "Requirement already satisfied: pydantic!=1.8,!=1.8.1,<3.0.0,>=1.7.4 in /usr/local/lib/python3.10/dist-packages (from spacy<4.0.0,>=3.0.0->spacy-udpipe->-r stepik-dl-nlp/requirements.txt (line 2)) (2.8.2)\n",
            "Requirement already satisfied: langcodes<4.0.0,>=3.2.0 in /usr/local/lib/python3.10/dist-packages (from spacy<4.0.0,>=3.0.0->spacy-udpipe->-r stepik-dl-nlp/requirements.txt (line 2)) (3.4.0)\n",
            "Requirement already satisfied: PyYAML>=3.10 in /usr/local/lib/python3.10/dist-packages (from bokeh->livelossplot==0.5.3->-r stepik-dl-nlp/requirements.txt (line 18)) (6.0.1)\n",
            "Requirement already satisfied: xyzservices>=2021.09.1 in /usr/local/lib/python3.10/dist-packages (from bokeh->livelossplot==0.5.3->-r stepik-dl-nlp/requirements.txt (line 18)) (2024.6.0)\n",
            "Requirement already satisfied: MarkupSafe>=2.0 in /usr/local/lib/python3.10/dist-packages (from jinja2->torch>=1.2->-r stepik-dl-nlp/requirements.txt (line 4)) (2.1.5)\n",
            "Requirement already satisfied: jupyter-core>=4.6.0 in /usr/local/lib/python3.10/dist-packages (from jupyter-client->ipykernel->-r stepik-dl-nlp/requirements.txt (line 13)) (5.7.2)\n",
            "Requirement already satisfied: pyzmq>=13 in /usr/local/lib/python3.10/dist-packages (from jupyter-client->ipykernel->-r stepik-dl-nlp/requirements.txt (line 13)) (24.0.1)\n",
            "Requirement already satisfied: mpmath<1.4,>=1.1.0 in /usr/local/lib/python3.10/dist-packages (from sympy->torch>=1.2->-r stepik-dl-nlp/requirements.txt (line 4)) (1.3.0)\n",
            "Requirement already satisfied: platformdirs>=2.5 in /usr/local/lib/python3.10/dist-packages (from jupyter-core>=4.6.0->jupyter-client->ipykernel->-r stepik-dl-nlp/requirements.txt (line 13)) (4.2.2)\n",
            "Requirement already satisfied: language-data>=1.2 in /usr/local/lib/python3.10/dist-packages (from langcodes<4.0.0,>=3.2.0->spacy<4.0.0,>=3.0.0->spacy-udpipe->-r stepik-dl-nlp/requirements.txt (line 2)) (1.2.0)\n",
            "Requirement already satisfied: annotated-types>=0.4.0 in /usr/local/lib/python3.10/dist-packages (from pydantic!=1.8,!=1.8.1,<3.0.0,>=1.7.4->spacy<4.0.0,>=3.0.0->spacy-udpipe->-r stepik-dl-nlp/requirements.txt (line 2)) (0.7.0)\n",
            "Requirement already satisfied: pydantic-core==2.20.1 in /usr/local/lib/python3.10/dist-packages (from pydantic!=1.8,!=1.8.1,<3.0.0,>=1.7.4->spacy<4.0.0,>=3.0.0->spacy-udpipe->-r stepik-dl-nlp/requirements.txt (line 2)) (2.20.1)\n",
            "Requirement already satisfied: charset-normalizer<4,>=2 in /usr/local/lib/python3.10/dist-packages (from requests<3.0.0,>=2.13.0->spacy<4.0.0,>=3.0.0->spacy-udpipe->-r stepik-dl-nlp/requirements.txt (line 2)) (3.3.2)\n",
            "Requirement already satisfied: idna<4,>=2.5 in /usr/local/lib/python3.10/dist-packages (from requests<3.0.0,>=2.13.0->spacy<4.0.0,>=3.0.0->spacy-udpipe->-r stepik-dl-nlp/requirements.txt (line 2)) (3.7)\n",
            "Requirement already satisfied: urllib3<3,>=1.21.1 in /usr/local/lib/python3.10/dist-packages (from requests<3.0.0,>=2.13.0->spacy<4.0.0,>=3.0.0->spacy-udpipe->-r stepik-dl-nlp/requirements.txt (line 2)) (2.0.7)\n",
            "Requirement already satisfied: certifi>=2017.4.17 in /usr/local/lib/python3.10/dist-packages (from requests<3.0.0,>=2.13.0->spacy<4.0.0,>=3.0.0->spacy-udpipe->-r stepik-dl-nlp/requirements.txt (line 2)) (2024.7.4)\n",
            "Requirement already satisfied: blis<0.8.0,>=0.7.8 in /usr/local/lib/python3.10/dist-packages (from thinc<8.3.0,>=8.2.2->spacy<4.0.0,>=3.0.0->spacy-udpipe->-r stepik-dl-nlp/requirements.txt (line 2)) (0.7.11)\n",
            "Requirement already satisfied: confection<1.0.0,>=0.0.1 in /usr/local/lib/python3.10/dist-packages (from thinc<8.3.0,>=8.2.2->spacy<4.0.0,>=3.0.0->spacy-udpipe->-r stepik-dl-nlp/requirements.txt (line 2)) (0.1.5)\n",
            "Requirement already satisfied: shellingham>=1.3.0 in /usr/local/lib/python3.10/dist-packages (from typer<1.0.0,>=0.3.0->spacy<4.0.0,>=3.0.0->spacy-udpipe->-r stepik-dl-nlp/requirements.txt (line 2)) (1.5.4)\n",
            "Requirement already satisfied: rich>=10.11.0 in /usr/local/lib/python3.10/dist-packages (from typer<1.0.0,>=0.3.0->spacy<4.0.0,>=3.0.0->spacy-udpipe->-r stepik-dl-nlp/requirements.txt (line 2)) (13.7.1)\n",
            "Requirement already satisfied: cloudpathlib<1.0.0,>=0.7.0 in /usr/local/lib/python3.10/dist-packages (from weasel<0.5.0,>=0.1.0->spacy<4.0.0,>=3.0.0->spacy-udpipe->-r stepik-dl-nlp/requirements.txt (line 2)) (0.18.1)\n",
            "Requirement already satisfied: marisa-trie>=0.7.7 in /usr/local/lib/python3.10/dist-packages (from language-data>=1.2->langcodes<4.0.0,>=3.2.0->spacy<4.0.0,>=3.0.0->spacy-udpipe->-r stepik-dl-nlp/requirements.txt (line 2)) (1.2.0)\n",
            "Requirement already satisfied: markdown-it-py>=2.2.0 in /usr/local/lib/python3.10/dist-packages (from rich>=10.11.0->typer<1.0.0,>=0.3.0->spacy<4.0.0,>=3.0.0->spacy-udpipe->-r stepik-dl-nlp/requirements.txt (line 2)) (3.0.0)\n",
            "Requirement already satisfied: mdurl~=0.1 in /usr/local/lib/python3.10/dist-packages (from markdown-it-py>=2.2.0->rich>=10.11.0->typer<1.0.0,>=0.3.0->spacy<4.0.0,>=3.0.0->spacy-udpipe->-r stepik-dl-nlp/requirements.txt (line 2)) (0.1.2)\n",
            "Building wheels for collected packages: gensim, youtokentome, wget, docopt, intervaltree\n",
            "  Building wheel for gensim (setup.py) ... \u001b[?25l\u001b[?25hdone\n",
            "  Created wheel for gensim: filename=gensim-3.8.1-cp310-cp310-linux_x86_64.whl size=24682936 sha256=6de634882e475a4c757cdc97d32d36fd9c6e0bcdc42d8320254ebe252059a1a0\n",
            "  Stored in directory: /root/.cache/pip/wheels/92/23/5d/b5ce54b3760acfebee170a8fe4d91cb303fafbefd8f93f3723\n",
            "  Building wheel for youtokentome (setup.py) ... \u001b[?25l\u001b[?25hdone\n",
            "  Created wheel for youtokentome: filename=youtokentome-1.0.6-cp310-cp310-linux_x86_64.whl size=1951500 sha256=0db32798d9cc51f394f07f97ad23d87a2453fd39825f99635fcbc3f696acbb32\n",
            "  Stored in directory: /root/.cache/pip/wheels/df/85/f8/301d2ba45f43f30bed2fe413efa760bc726b8b660ed9c2900c\n",
            "  Building wheel for wget (setup.py) ... \u001b[?25l\u001b[?25hdone\n",
            "  Created wheel for wget: filename=wget-3.2-py3-none-any.whl size=9656 sha256=7d1c0b19f2be677fc94f9a56cf800adde153d39229027937e5c22c7e13c05752\n",
            "  Stored in directory: /root/.cache/pip/wheels/8b/f1/7f/5c94f0a7a505ca1c81cd1d9208ae2064675d97582078e6c769\n",
            "  Building wheel for docopt (setup.py) ... \u001b[?25l\u001b[?25hdone\n",
            "  Created wheel for docopt: filename=docopt-0.6.2-py2.py3-none-any.whl size=13706 sha256=2575bfc12d94c281a68debb6d724269bbdbbfd4a3ccbe9cc18c08af51b68dfad\n",
            "  Stored in directory: /root/.cache/pip/wheels/fc/ab/d4/5da2067ac95b36618c629a5f93f809425700506f72c9732fac\n",
            "  Building wheel for intervaltree (setup.py) ... \u001b[?25l\u001b[?25hdone\n",
            "  Created wheel for intervaltree: filename=intervaltree-3.1.0-py2.py3-none-any.whl size=26096 sha256=24cc39b45788022506a83d2b5f2ac629ba0c69c593145083b771f3fefaabf2c0\n",
            "  Stored in directory: /root/.cache/pip/wheels/fa/80/8c/43488a924a046b733b64de3fac99252674c892a4c3801c0a61\n",
            "Successfully built gensim youtokentome wget docopt intervaltree\n",
            "Installing collected packages: wget, ufal.udpipe, pymorphy2-dicts-ru, docopt, dawg-python, youtokentome, pymorphy2, pyconll, nvidia-nvtx-cu12, nvidia-nvjitlink-cu12, nvidia-nccl-cu12, nvidia-curand-cu12, nvidia-cufft-cu12, nvidia-cuda-runtime-cu12, nvidia-cuda-nvrtc-cu12, nvidia-cuda-cupti-cu12, nvidia-cublas-cu12, jedi, intervaltree, nvidia-cusparse-cu12, nvidia-cudnn-cu12, ipymarkup, gensim, nvidia-cusolver-cu12, livelossplot, spacy-udpipe\n",
            "  Attempting uninstall: gensim\n",
            "    Found existing installation: gensim 4.3.2\n",
            "    Uninstalling gensim-4.3.2:\n",
            "      Successfully uninstalled gensim-4.3.2\n",
            "Successfully installed dawg-python-0.7.2 docopt-0.6.2 gensim-3.8.1 intervaltree-3.1.0 ipymarkup-0.9.0 jedi-0.19.1 livelossplot-0.5.3 nvidia-cublas-cu12-12.1.3.1 nvidia-cuda-cupti-cu12-12.1.105 nvidia-cuda-nvrtc-cu12-12.1.105 nvidia-cuda-runtime-cu12-12.1.105 nvidia-cudnn-cu12-8.9.2.26 nvidia-cufft-cu12-11.0.2.54 nvidia-curand-cu12-10.3.2.106 nvidia-cusolver-cu12-11.4.5.107 nvidia-cusparse-cu12-12.1.0.106 nvidia-nccl-cu12-2.20.5 nvidia-nvjitlink-cu12-12.5.82 nvidia-nvtx-cu12-12.1.105 pyconll-3.2.0 pymorphy2-0.9.1 pymorphy2-dicts-ru-2.4.417127.4579844 spacy-udpipe-1.0.0 ufal.udpipe-1.3.1.1 wget-3.2 youtokentome-1.0.6\n"
          ]
        }
      ],
      "source": [
        "# Если Вы запускаете ноутбук на colab или kaggle,\n",
        "# выполните следующие строчки, чтобы подгрузить библиотеку dlnlputils:\n",
        "\n",
        "!git clone https://github.com/Samsung-IT-Academy/stepik-dl-nlp.git && pip install -r stepik-dl-nlp/requirements.txt\n",
        "import sys; sys.path.append('./stepik-dl-nlp')"
      ]
    },
    {
      "cell_type": "code",
      "execution_count": 3,
      "metadata": {
        "ExecuteTime": {
          "end_time": "2019-10-29T19:19:30.785285Z",
          "start_time": "2019-10-29T19:19:29.542846Z"
        },
        "id": "hDNC0HJQQFhp",
        "colab": {
          "base_uri": "https://localhost:8080/"
        },
        "outputId": "6792eabb-3d59-4450-c0b6-0f386550d664"
      },
      "outputs": [
        {
          "output_type": "stream",
          "name": "stdout",
          "text": [
            "The autoreload extension is already loaded. To reload it, use:\n",
            "  %reload_ext autoreload\n"
          ]
        }
      ],
      "source": [
        "%load_ext autoreload\n",
        "%autoreload 2\n",
        "\n",
        "import random\n",
        "import pandas as pd\n",
        "import numpy as np\n",
        "\n",
        "import matplotlib.pyplot as plt\n",
        "%matplotlib inline\n",
        "\n",
        "import torch\n",
        "from torch import nn\n",
        "from torch.nn import functional as F\n",
        "\n",
        "import dlnlputils\n",
        "from dlnlputils.data import tokenize_corpus, build_vocabulary, texts_to_token_ids, \\\n",
        "    PaddedSequenceDataset, Embeddings\n",
        "from dlnlputils.pipeline import train_eval_loop, predict_with_model, init_random_seed\n",
        "from dlnlputils.visualization import plot_vectors\n",
        "\n",
        "init_random_seed()"
      ]
    },
    {
      "cell_type": "markdown",
      "metadata": {
        "id": "uVIJHTFGQFhp"
      },
      "source": [
        "## Загрузка данных и подготовка корпуса"
      ]
    },
    {
      "cell_type": "code",
      "execution_count": null,
      "metadata": {
        "ExecuteTime": {
          "end_time": "2019-10-29T19:19:31.270503Z",
          "start_time": "2019-10-29T19:19:30.787789Z"
        },
        "colab": {
          "base_uri": "https://localhost:8080/"
        },
        "id": "FZxoyZDjQFhp",
        "outputId": "84d3f529-f691-469c-83df-a615efb5cda1"
      },
      "outputs": [
        {
          "output_type": "stream",
          "name": "stdout",
          "text": [
            "Обучающая выборка 125344\n",
            "Тестовая выборка 53719\n",
            "\n",
            "1/4 cup sour cream\n",
            "10 ounces swordfish, red snapper or other firm-fleshed fish\n",
            "1 tablespoon minced basil leaves\n",
            "Handful fresh parsley, finely minced\n",
            "4 ounces lard or butter, plus more for brushing tops\n",
            "4 to 5 green cardamom pods\n",
            "1 stick ( 1/4 pound) unsalted butter, softened\n",
            "1/4 teaspoon red pepper flakes, preferably Turkish or Aleppo (see note), more to taste\n",
            "1 tablespoon fresh lemon juice\n",
            "1/4 cup scallions, thinly sliced\n"
          ]
        }
      ],
      "source": [
        "# Если Вы запускаете ноутбук на colab или kaggle, добавьте в начало пути ./stepik-dl-nlp\n",
        "full_dataset = list(pd.read_csv('./stepik-dl-nlp/datasets/nyt-ingredients-snapshot-2015.csv')['input'].dropna())\n",
        "random.shuffle(full_dataset)\n",
        "\n",
        "TRAIN_VAL_SPLIT = int(len(full_dataset) * 0.7)\n",
        "train_source = full_dataset[:TRAIN_VAL_SPLIT]\n",
        "test_source = full_dataset[TRAIN_VAL_SPLIT:]\n",
        "print(\"Обучающая выборка\", len(train_source))\n",
        "print(\"Тестовая выборка\", len(test_source))\n",
        "print()\n",
        "print('\\n'.join(train_source[:10]))"
      ]
    },
    {
      "cell_type": "code",
      "execution_count": null,
      "metadata": {
        "ExecuteTime": {
          "end_time": "2019-10-29T19:19:32.137838Z",
          "start_time": "2019-10-29T19:19:31.272363Z"
        },
        "colab": {
          "base_uri": "https://localhost:8080/"
        },
        "id": "Z9eOg0nBQFhq",
        "outputId": "1a60f48e-a16a-47d5-f5c7-25f04a4c82de"
      },
      "outputs": [
        {
          "output_type": "stream",
          "name": "stdout",
          "text": [
            "sour cream\n",
            "ounces swordfish snapper other firm fleshed fish\n",
            "tablespoon minced basil leaves\n",
            "handful fresh parsley finely minced\n",
            "ounces lard butter plus more brushing tops\n",
            "green cardamom pods\n",
            "stick pound unsalted butter softened\n",
            "teaspoon pepper flakes preferably turkish aleppo note more taste\n",
            "tablespoon fresh lemon juice\n",
            "scallions thinly sliced\n"
          ]
        }
      ],
      "source": [
        "# токенизируем\n",
        "train_tokenized = tokenize_corpus(train_source)\n",
        "test_tokenized = tokenize_corpus(test_source)\n",
        "print('\\n'.join(' '.join(sent) for sent in train_tokenized[:10]))"
      ]
    },
    {
      "cell_type": "code",
      "execution_count": null,
      "metadata": {
        "ExecuteTime": {
          "end_time": "2019-10-29T19:19:32.325205Z",
          "start_time": "2019-10-29T19:19:32.140837Z"
        },
        "colab": {
          "base_uri": "https://localhost:8080/"
        },
        "id": "8h2oImf_QFhq",
        "outputId": "5f44847c-b408-4a60-9fb6-f6edec375a4d"
      },
      "outputs": [
        {
          "output_type": "stream",
          "name": "stdout",
          "text": [
            "Размер словаря 2267\n",
            "[('<PAD>', 0), ('tablespoons', 1), ('teaspoon', 2), ('chopped', 3), ('salt', 4), ('pepper', 5), ('cups', 6), ('ground', 7), ('fresh', 8), ('tablespoon', 9)]\n"
          ]
        }
      ],
      "source": [
        "# строим словарь\n",
        "# Вводим фиктивный токен паддинга для того, чтобы в дальнейшем можно было объединить предложения разной длины в один прямоугольный тензор\n",
        "PAD_WORD = '<PAD>'\n",
        "vocabulary, word_doc_freq = build_vocabulary(train_tokenized, max_doc_freq=0.9, min_count=5, pad_word=PAD_WORD)\n",
        "print(\"Размер словаря\", len(vocabulary))\n",
        "print(list(vocabulary.items())[:10])"
      ]
    },
    {
      "cell_type": "code",
      "execution_count": null,
      "metadata": {
        "ExecuteTime": {
          "end_time": "2019-10-29T19:19:32.686258Z",
          "start_time": "2019-10-29T19:19:32.327711Z"
        },
        "colab": {
          "base_uri": "https://localhost:8080/"
        },
        "id": "EGWGfdffQFhq",
        "outputId": "6144b920-0cc5-4648-9a99-7f5ae2d7f5f9"
      },
      "outputs": [
        {
          "output_type": "stream",
          "name": "stdout",
          "text": [
            "222 52\n",
            "22 878 574 127 246 707 181\n",
            "9 19 88 33\n",
            "517 8 43 15 19\n",
            "22 586 20 45 47 649 648\n",
            "59 329 535\n",
            "200 12 50 20 266\n",
            "2 5 140 78 1208 735 153 47 10\n",
            "9 8 31 25\n",
            "98 65 27\n"
          ]
        }
      ],
      "source": [
        "# отображаем в номера токенов\n",
        "train_token_ids = texts_to_token_ids(train_tokenized, vocabulary)\n",
        "test_token_ids = texts_to_token_ids(test_tokenized, vocabulary)\n",
        "\n",
        "print('\\n'.join(' '.join(str(t) for t in sent)\n",
        "                for sent in train_token_ids[:10]))"
      ]
    },
    {
      "cell_type": "code",
      "execution_count": null,
      "metadata": {
        "ExecuteTime": {
          "end_time": "2019-10-29T19:19:32.967989Z",
          "start_time": "2019-10-29T19:19:32.688319Z"
        },
        "colab": {
          "base_uri": "https://localhost:8080/",
          "height": 452
        },
        "id": "71Mwdzv1QFhq",
        "outputId": "1c259bcf-125a-46d9-9dd7-7adb2126b639"
      },
      "outputs": [
        {
          "output_type": "display_data",
          "data": {
            "text/plain": [
              "<Figure size 640x480 with 1 Axes>"
            ],
            "image/png": "[encoded data removed]"
          },
          "metadata": {}
        }
      ],
      "source": [
        "plt.hist([len(s) for s in train_token_ids], bins=20);\n",
        "plt.title('Гистограмма длин предложений');"
      ]
    },
    {
      "cell_type": "markdown",
      "source": [
        "Видим что большая часть предожений укладывается в 20 токенов"
      ],
      "metadata": {
        "id": "yhJMU981Rtn8"
      }
    },
    {
      "cell_type": "code",
      "execution_count": null,
      "metadata": {
        "ExecuteTime": {
          "end_time": "2019-10-29T19:19:33.001487Z",
          "start_time": "2019-10-29T19:19:32.970153Z"
        },
        "colab": {
          "base_uri": "https://localhost:8080/"
        },
        "id": "OYd7JgQmQFhq",
        "outputId": "e03df7ac-c359-40b3-8382-26370973b26a"
      },
      "outputs": [
        {
          "output_type": "stream",
          "name": "stdout",
          "text": [
            "(tensor([222,  52,   0,   0,   0,   0,   0,   0,   0,   0,   0,   0,   0,   0,\n",
            "          0,   0,   0,   0,   0,   0]), tensor(0))\n"
          ]
        }
      ],
      "source": [
        "MAX_SENTENCE_LEN = 20\n",
        "# Представляем корупс текстов в виже прямоугольной матрицы предложений,\n",
        "# выравниваем длину предложений фиктивным словом\n",
        "train_dataset = PaddedSequenceDataset(train_token_ids,\n",
        "                                      np.zeros(len(train_token_ids)),\n",
        "                                      out_len=MAX_SENTENCE_LEN, pad_value=vocabulary[PAD_WORD])\n",
        "test_dataset = PaddedSequenceDataset(test_token_ids,\n",
        "                                     np.zeros(len(test_token_ids)),\n",
        "                                     out_len=MAX_SENTENCE_LEN, pad_value=vocabulary[PAD_WORD])\n",
        "print(train_dataset[0])"
      ]
    },
    {
      "cell_type": "markdown",
      "metadata": {
        "id": "WRS_38Q9QFhq"
      },
      "source": [
        "## Алгоритм обучения - Skip Gram Negative Sampling\n",
        "\n",
        "**Skip Gram** - предсказываем соседние слова по центральному слову\n",
        "\n",
        "**Negative Sampling** - аппроксимация softmax\n",
        "\n",
        "$$ W, D \\in \\mathbb{R}^{Vocab \\times EmbSize} $$\n",
        "\n",
        "$$ \\sum_{CenterW_i} P(CtxW_{-2}, CtxW_{-1}, CtxW_{+1}, CtxW_{+2} | CenterW_i; W, D) \\rightarrow \\max_{W,D} $$\n",
        "\n",
        "$$ P(CtxW_{-2}, CtxW_{-1}, CtxW_{+1}, CtxW_{+2} | CenterW_i; W, D) = \\prod_j P(CtxW_j | CenterW_i; W, D) $$\n",
        "    \n",
        "$$ P(CtxW_j | CenterW_i; W, D) = \\frac{e^{w_i \\cdot d_j}} { \\sum_{j=1}^{|V|} e^{w_i \\cdot d_j}} = softmax \\simeq \\frac{e^{w_i \\cdot d_j^+}} { \\sum_{j=1}^{k} e^{w_i \\cdot d_j^-}}, \\quad k \\ll |V| $$"
      ]
    },
    {
      "cell_type": "code",
      "execution_count": 4,
      "metadata": {
        "ExecuteTime": {
          "end_time": "2019-10-29T19:19:33.065376Z",
          "start_time": "2019-10-29T19:19:33.003081Z"
        },
        "colab": {
          "base_uri": "https://localhost:8080/"
        },
        "id": "3FzJWtiLQFhq",
        "outputId": "b1216f15-c8f8-4ae9-bbb5-2e3ea2b99bf6"
      },
      "outputs": [
        {
          "output_type": "execute_result",
          "data": {
            "text/plain": [
              "tensor([[0., 1., 1., 1., 0., 0., 0., 0., 0., 0.],\n",
              "        [1., 0., 1., 1., 1., 0., 0., 0., 0., 0.],\n",
              "        [1., 1., 0., 1., 1., 1., 0., 0., 0., 0.],\n",
              "        [1., 1., 1., 0., 1., 1., 1., 0., 0., 0.],\n",
              "        [0., 1., 1., 1., 0., 1., 1., 1., 0., 0.],\n",
              "        [0., 0., 1., 1., 1., 0., 1., 1., 1., 0.],\n",
              "        [0., 0., 0., 1., 1., 1., 0., 1., 1., 1.],\n",
              "        [0., 0., 0., 0., 1., 1., 1., 0., 1., 1.],\n",
              "        [0., 0., 0., 0., 0., 1., 1., 1., 0., 1.],\n",
              "        [0., 0., 0., 0., 0., 0., 1., 1., 1., 0.]])"
            ]
          },
          "metadata": {},
          "execution_count": 4
        }
      ],
      "source": [
        "def make_diag_mask(size, radius):\n",
        "    \"\"\"Квадратная матрица размера Size x Size с двумя полосами ширины radius вдоль главной диагонали\"\"\"\n",
        "    # Этой маской мы задаем все возможные контекстные окна на нашем предложении\n",
        "    idxs = torch.arange(size)\n",
        "    abs_idx_diff = (idxs.unsqueeze(0) - idxs.unsqueeze(1)).abs()\n",
        "    mask = ((abs_idx_diff <= radius) & (abs_idx_diff > 0)).float()\n",
        "    return mask\n",
        "\n",
        "make_diag_mask(10, 3)"
      ]
    },
    {
      "cell_type": "markdown",
      "metadata": {
        "id": "x6kHg7yhQFhq"
      },
      "source": [
        "**Negative Sampling** работает следующим образом - мы **максимизируем сумму вероятностей двух событий**:\n",
        "\n",
        "* \"этот пример центрального слова вместе с контекстными словами взят **из тренировочной выборки**\": $$ P(y=1 | CenterW_i; CtxW_j) = sigmoid(w_i \\cdot d_j) = \\frac{1}{1+e^{-w_i \\cdot d_j}} $$\n",
        "\n",
        "$$ \\\\ $$\n",
        "\n",
        "* \"этот пример центрального слова вместе со случайми контекстными словами **выдуман** \": $$ P(y=0 | CenterW_i; CtxW_{noise}) = 1 - P(y=1 | CenterW_i;  CtxW_{noise}) = \\frac{1}{1+e^{w_i \\cdot d_{noise}}} $$\n",
        "\n",
        "$$ \\\\ $$\n",
        "\n",
        "$$ NEG(CtxW_j, CenterW_i) = log(\\frac{1}{1+e^{-w_i \\cdot d_j}}) + \\sum_{l=1}^{k}log(\\frac{1}{1+e^{w_i \\cdot d_{noise_l}}})  \\rightarrow \\max_{W,D} $$"
      ]
    },
    {
      "cell_type": "code",
      "execution_count": 5,
      "metadata": {
        "ExecuteTime": {
          "end_time": "2019-10-29T19:19:33.101379Z",
          "start_time": "2019-10-29T19:19:33.068154Z"
        },
        "id": "M6X7R_vrQFhr"
      },
      "outputs": [],
      "source": [
        "class SkipGramNegativeSamplingTrainer(nn.Module):\n",
        "    def __init__(self, vocab_size, emb_size, sentence_len, radius=5, negative_samples_n=5):\n",
        "        super().__init__()\n",
        "        self.vocab_size = vocab_size\n",
        "        self.negative_samples_n = negative_samples_n\n",
        "\n",
        "        # Эмбеддинги центральных слов\n",
        "        # указываем индекс для паддинга, чтобы показать, что его учить не нужно\n",
        "        self.center_emb = nn.Embedding(self.vocab_size, emb_size, padding_idx=vocabulary[PAD_WORD])\n",
        "        # Такая инициализация эмбеддингов равномерным шумом нужна для поддержиния инварианта того, что норма векторов = 1\n",
        "        self.center_emb.weight.data.uniform_(-1.0 / emb_size, 1.0 / emb_size)\n",
        "        self.center_emb.weight.data[vocabulary[PAD_WORD]] = 0\n",
        "\n",
        "        # Эмбеддинги контекстных слов\n",
        "        self.context_emb = nn.Embedding(self.vocab_size, emb_size, padding_idx=vocabulary[PAD_WORD])\n",
        "        self.context_emb.weight.data.uniform_(-1.0 / emb_size, 1.0 / emb_size)\n",
        "        self.context_emb.weight.data[vocabulary[PAD_WORD]] = 0\n",
        "\n",
        "        # маска для выделения всевозможных контекстных окон заданного радиуса во всех предложения при обучении\n",
        "        self.positive_sim_mask = make_diag_mask(sentence_len, radius)\n",
        "\n",
        "    def forward(self, sentences):\n",
        "        \"\"\"sentences - Batch x MaxSentLength - идентификаторы токенов\"\"\"\n",
        "        batch_size = sentences.shape[0]\n",
        "\n",
        "        #получает на вход LongTensor с idx (т.е. индексами токенов), возвращает тензор + 1 измерения\n",
        "        #в котором индексы заменены на соответствующие им embedding'и (это центральные слова)\n",
        "        #Итого(для batch=1): мы получаем тензор предложения фиксированной длины, где каждое слово\n",
        "        #заменено на embedding из центральных слов, все отсутствующие слова (нет в словаре или\n",
        "        #закончилось реальное предложение), заменяются на embedding из 0\n",
        "        center_embeddings = self.center_emb(sentences)  # Batch x MaxSentLength x EmbSize\n",
        "\n",
        "\n",
        "        ### оценить сходство с настоящими соседними словами\n",
        "\n",
        "        #получает на вход LongTensor с idx (т.е. индексами токенов), возвращает тензор + 1 измерения\n",
        "        #в котором индексы заменены на соответствующие им embedding'и, (это контекстные слова)\n",
        "        #дополнительно транспонируем для целей последующего тензорного (матричного) умножения\n",
        "        #Итого(для batch=1): мы получаем тензор предложения фиксированной длины, где каждое слово\n",
        "        #заменено на embedding из контекстных слов, все отсутствующие слова (нет в словаре или\n",
        "        #закончилось реальное предложение), заменяются на embedding из 0\n",
        "        positive_context_embs = self.context_emb(sentences).permute(0, 2, 1)  # Batch x EmbSize x MaxSentLength\n",
        "\n",
        "        #перемножение тензоров, по сути, скалярное произведение эмбеддингов,\n",
        "        #Важно отметить, что изначально я предполагал, что эта операция равносильна нахождению косинусных расстояний,\n",
        "        #т.к. на основе анализа итоговых эмбеддингов, сделал неверный вывод, что длина каждого из векторов уже здесь = 1\n",
        "        #(т.е. они сразу нормализуются в пределах каждого embedding (например внутри класса torch.nn.Embedding),\n",
        "        #но это не так, нормализация происходит уже после полного обучения модели, через передачу весов в конструктор\n",
        "        #созданного вручную класса Embedding)\n",
        "        #Итого(для batch=1): мы получаем матрицу MaxSentLength x MaxSentLength, скалярных произведений,\n",
        "        #между векторами каждого центрального слова и каждого контекстного слова (значения [-inf; inf])\n",
        "        positive_sims = torch.bmm(center_embeddings, positive_context_embs)  # Batch x MaxSentLength x MaxSentLength\n",
        "\n",
        "        #преобразуем в \"условные вероятности\" через взятие сигмоиды, т.е. получаем как бы\n",
        "        #\"условные вероятности\" встретить пары слов вместе, по факту для каждой пары, скалярное произведение,\n",
        "        #обернутое в сигмоиду и как следствие в диапазон значений (0; 1)\n",
        "        positive_probs = torch.sigmoid(positive_sims)\n",
        "\n",
        "\n",
        "        ### увеличить оценку вероятности встретить эти пары слов вместе\n",
        "\n",
        "        #переводим тензор self.positive_sim_mask на тот же девайс, на котором positive_sims\n",
        "        positive_mask = self.positive_sim_mask.to(positive_sims.device)\n",
        "\n",
        "        #.expand_as - Expand this tensor to the same size as other.\n",
        "        #self.expand_as(other) is equivalent to self.expand(other.size())\n",
        "        #positive_probs * positive_mask - мы оставляем только позиции пересечения центральных слов в контекстными,\n",
        "        #все остальные позиции зануляются\n",
        "        #подсчитываем бинарную кросс энтропию вычисленных \"условных вероятностей\" (сигмоид) и целевых = 1 для всех\n",
        "        #пересечений центральных и контекстных слов, все остальные позиции в обоих матрицах = 0\n",
        "        #Примечание: т.к. по умолчанию BCEloss в реализации torch высчитывает итоговое значение как 'mean',\n",
        "        #а не 'sum' из всех полученных, то количество 0 так же влияет на итоговое значение, имеет ли это какой\n",
        "        #то эффект, и измениться ли что то, если выставить reduction='sum', не очевидно и нужно проверять на практике\n",
        "        #Примечание: для всех позиций, которые занулены, их эмбеддинги соответствуют эмбеддинг-вектору с idx=0, для\n",
        "        #для которого мы при создании мы указали паддинг nn.Embedding(..., padding_idx=0), это означает, что эти веса\n",
        "        #фиксированы, и не подлежат изменению через градиентных шаг\n",
        "        #\n",
        "        #Итого: важно понимать, что если бы оптимизировали только данную loss функцию, без отрицательных примеров,\n",
        "        #которые идут ниже, то, все сводилось бы к тому, что минимальное значение loss было бы, если бы мы все\n",
        "        #вектора (и центральных слов и контекстных) устремили бы в бесконечность, в одном направлении (например всем\n",
        "        #их весам присвоили бы значение inf или любые подобные варианты)\n",
        "        positive_loss = F.binary_cross_entropy(positive_probs * positive_mask,\n",
        "                                               positive_mask.expand_as(positive_probs))\n",
        "\n",
        "\n",
        "        ### выбрать случайные \"отрицательные\" слова\n",
        "        # важно отметить что есть много подходов выбора отрицательных слов, иногда учитывают их частотность\n",
        "        negative_words = torch.randint(1, self.vocab_size,\n",
        "                                       size=(batch_size, self.negative_samples_n),\n",
        "                                       device=sentences.device)  # Batch x NegSamplesN\n",
        "        negative_context_embs = self.context_emb(negative_words).permute(0, 2, 1)  # Batch x EmbSize x NegSamplesN\n",
        "        negative_sims = torch.bmm(center_embeddings, negative_context_embs)  # Batch x MaxSentLength x NegSamplesN\n",
        "\n",
        "        ### уменьшить оценку вероятность встретить эти пары слов вместе\n",
        "        #Важно отметить, что BCEWithLogitsLoss равносильна последовательному применению Sigmoid -> BCELoss\n",
        "        #но в реализации torch она является более численно стабильной, чем раздельное применение\n",
        "        #Итого: здесь все целевые (target) значения = 0, и если бы мы минимизировали только эту loss функцию, то минимальное\n",
        "        #ее значение было бы, если бы мы устремили все вектора центральных слов в бесконечность одного направления,\n",
        "        #а вектора контекстных слов в бесконечность противоположного направления\n",
        "        negative_loss = F.binary_cross_entropy_with_logits(negative_sims,\n",
        "                                                           negative_sims.new_zeros(negative_sims.shape))\n",
        "\n",
        "        return positive_loss + negative_loss\n",
        "\n",
        "\n",
        "def no_loss(pred, target):\n",
        "    \"\"\"Фиктивная функция потерь - когда модель сама считает функцию потерь\"\"\"\n",
        "    return pred"
      ]
    },
    {
      "cell_type": "markdown",
      "metadata": {
        "id": "AETNISiPQFhr"
      },
      "source": [
        "## Обучение"
      ]
    },
    {
      "cell_type": "code",
      "execution_count": null,
      "metadata": {
        "ExecuteTime": {
          "end_time": "2019-10-29T19:19:33.130307Z",
          "start_time": "2019-10-29T19:19:33.103036Z"
        },
        "id": "okef7tgxQFhr"
      },
      "outputs": [],
      "source": [
        "trainer = SkipGramNegativeSamplingTrainer(len(vocabulary), 100, MAX_SENTENCE_LEN,\n",
        "                                          radius=5, negative_samples_n=25)"
      ]
    },
    {
      "cell_type": "code",
      "execution_count": null,
      "metadata": {
        "ExecuteTime": {
          "end_time": "2019-10-29T19:20:12.830221Z",
          "start_time": "2019-10-29T19:19:33.132062Z"
        },
        "scrolled": false,
        "colab": {
          "base_uri": "https://localhost:8080/"
        },
        "id": "lblCRlVnQFhr",
        "outputId": "ff62705e-763f-40dd-e817-b15650ee80e1"
      },
      "outputs": [
        {
          "output_type": "stream",
          "name": "stderr",
          "text": [
            "/usr/local/lib/python3.10/dist-packages/torch/optim/lr_scheduler.py:28: UserWarning: The verbose parameter is deprecated. Please use get_last_lr() to access the learning rate.\n",
            "  warnings.warn(\"The verbose parameter is deprecated. Please use get_last_lr() \"\n"
          ]
        },
        {
          "output_type": "stream",
          "name": "stdout",
          "text": [
            "Эпоха 0\n",
            "Эпоха: 2001 итераций, 9.00 сек\n",
            "Среднее значение функции потерь на обучении 0.8888435061129256\n",
            "Среднее значение функции потерь на валидации 0.8810428305872323\n",
            "Новая лучшая модель!\n",
            "\n",
            "Эпоха 1\n",
            "Эпоха: 2001 итераций, 9.99 сек\n",
            "Среднее значение функции потерь на обучении 0.8782525956183895\n",
            "Среднее значение функции потерь на валидации 0.8773940977993423\n",
            "Новая лучшая модель!\n",
            "\n",
            "Эпоха 2\n",
            "Эпоха: 2001 итераций, 9.00 сек\n",
            "Среднее значение функции потерь на обучении 0.8767326054484889\n",
            "Среднее значение функции потерь на валидации 0.8763777058335799\n",
            "Новая лучшая модель!\n",
            "\n",
            "Эпоха 3\n",
            "Эпоха: 2001 итераций, 9.20 сек\n",
            "Среднее значение функции потерь на обучении 0.8759365059446538\n",
            "Среднее значение функции потерь на валидации 0.8766091599006397\n",
            "\n",
            "Эпоха 4\n",
            "Эпоха: 2001 итераций, 9.45 сек\n",
            "Среднее значение функции потерь на обучении 0.8761037420118409\n",
            "Среднее значение функции потерь на валидации 0.8765759926808031\n",
            "\n",
            "Эпоха 5\n",
            "Эпоха: 2001 итераций, 9.51 сек\n",
            "Среднее значение функции потерь на обучении 0.8727998008196619\n",
            "Среднее значение функции потерь на валидации 0.8721343272848975\n",
            "Новая лучшая модель!\n",
            "\n",
            "Эпоха 6\n",
            "Эпоха: 2001 итераций, 9.91 сек\n",
            "Среднее значение функции потерь на обучении 0.8696293126994642\n",
            "Среднее значение функции потерь на валидации 0.8705384276646424\n",
            "Новая лучшая модель!\n",
            "\n",
            "Эпоха 7\n",
            "Эпоха: 2001 итераций, 9.65 сек\n",
            "Среднее значение функции потерь на обучении 0.8687033095042864\n",
            "Среднее значение функции потерь на валидации 0.8697711531830118\n",
            "Новая лучшая модель!\n",
            "\n",
            "Эпоха 8\n",
            "Эпоха: 2001 итераций, 8.72 сек\n",
            "Среднее значение функции потерь на обучении 0.8676716067801709\n",
            "Среднее значение функции потерь на валидации 0.8692109553208568\n",
            "Новая лучшая модель!\n",
            "\n",
            "Эпоха 9\n",
            "Эпоха: 2001 итераций, 9.22 сек\n",
            "Среднее значение функции потерь на обучении 0.8675607456260178\n",
            "Среднее значение функции потерь на валидации 0.868857230362569\n",
            "Новая лучшая модель!\n",
            "\n"
          ]
        }
      ],
      "source": [
        "best_val_loss, best_model = train_eval_loop(trainer,\n",
        "                                            train_dataset,\n",
        "                                            test_dataset,\n",
        "                                            no_loss,\n",
        "                                            lr=1e-2,\n",
        "                                            epoch_n=10,\n",
        "                                            batch_size=8,\n",
        "                                            device='cpu',\n",
        "                                            early_stopping_patience=10,\n",
        "                                            max_batches_per_epoch_train=2000,\n",
        "                                            max_batches_per_epoch_val=len(test_dataset),\n",
        "                                            lr_scheduler_ctor=lambda optim: torch.optim.lr_scheduler.ReduceLROnPlateau(optim, patience=1, verbose=True))"
      ]
    },
    {
      "cell_type": "code",
      "execution_count": null,
      "metadata": {
        "ExecuteTime": {
          "end_time": "2019-10-29T19:20:12.862018Z",
          "start_time": "2019-10-29T19:20:12.832046Z"
        },
        "id": "JcpgVXdVQFhr"
      },
      "outputs": [],
      "source": [
        "# Если Вы запускаете ноутбук на colab или kaggle, добавьте в начало пути ./stepik-dl-nlp\n",
        "torch.save(trainer.state_dict(), 'models/sgns.pth')"
      ]
    },
    {
      "cell_type": "code",
      "source": [
        "#  !unzip models.zip"
      ],
      "metadata": {
        "colab": {
          "base_uri": "https://localhost:8080/"
        },
        "id": "zVR57IvLIdb0",
        "outputId": "58dc889c-a727-4dc1-f4ad-93d9cbc9fe2a"
      },
      "execution_count": null,
      "outputs": [
        {
          "output_type": "stream",
          "name": "stdout",
          "text": [
            "Archive:  models.zip\n",
            "   creating: models/\n",
            "  inflating: models/sgns.pth         \n"
          ]
        }
      ]
    },
    {
      "cell_type": "code",
      "execution_count": null,
      "metadata": {
        "ExecuteTime": {
          "end_time": "2019-10-29T19:20:12.888270Z",
          "start_time": "2019-10-29T19:20:12.864706Z"
        },
        "colab": {
          "base_uri": "https://localhost:8080/"
        },
        "id": "T1vFyB_zQFhr",
        "outputId": "df0287b1-a579-4638-9482-c11e91eda392"
      },
      "outputs": [
        {
          "output_type": "execute_result",
          "data": {
            "text/plain": [
              "<All keys matched successfully>"
            ]
          },
          "metadata": {},
          "execution_count": 23
        }
      ],
      "source": [
        "# Если Вы запускаете ноутбук на colab или kaggle, добавьте в начало пути ./stepik-dl-nlp\n",
        "trainer.load_state_dict(torch.load('models/sgns.pth'))"
      ]
    },
    {
      "cell_type": "code",
      "source": [
        "#  !zip -r models.zip models/"
      ],
      "metadata": {
        "colab": {
          "base_uri": "https://localhost:8080/"
        },
        "id": "KFRbC4KpGj9M",
        "outputId": "ada0588a-c3b1-4557-98b5-4ef2cba3eb78"
      },
      "execution_count": null,
      "outputs": [
        {
          "output_type": "stream",
          "name": "stdout",
          "text": [
            "  adding: models/ (stored 0%)\n",
            "  adding: models/sgns.pth (deflated 7%)\n"
          ]
        }
      ]
    },
    {
      "cell_type": "markdown",
      "metadata": {
        "id": "2PM1RDsHQFhr"
      },
      "source": [
        "## Исследуем характеристики полученных векторов"
      ]
    },
    {
      "cell_type": "code",
      "execution_count": null,
      "metadata": {
        "ExecuteTime": {
          "end_time": "2019-10-29T19:20:12.919904Z",
          "start_time": "2019-10-29T19:20:12.890671Z"
        },
        "id": "7o34WlofQFhr"
      },
      "outputs": [],
      "source": [
        "embeddings = Embeddings(trainer.center_emb.weight.detach().cpu().numpy(), vocabulary)"
      ]
    },
    {
      "cell_type": "code",
      "execution_count": null,
      "metadata": {
        "ExecuteTime": {
          "end_time": "2019-10-29T19:20:12.942708Z",
          "start_time": "2019-10-29T19:20:12.921619Z"
        },
        "colab": {
          "base_uri": "https://localhost:8080/"
        },
        "id": "7_UffvqfQFhr",
        "outputId": "81a3fe4c-45f9-49b9-b315-4b769e52b557"
      },
      "outputs": [
        {
          "output_type": "execute_result",
          "data": {
            "text/plain": [
              "[('chicken', 0.9999324),\n",
              " ('turkey', 0.62554187),\n",
              " ('stock', 0.58997035),\n",
              " ('boneless', 0.55318195),\n",
              " ('skinless', 0.54263425),\n",
              " ('breast', 0.53758645),\n",
              " ('beef', 0.5251227),\n",
              " ('broth', 0.52152395),\n",
              " ('sodium', 0.5003524),\n",
              " ('breasts', 0.49531868)]"
            ]
          },
          "metadata": {},
          "execution_count": 25
        }
      ],
      "source": [
        "embeddings.most_similar('chicken')"
      ]
    },
    {
      "cell_type": "code",
      "execution_count": null,
      "metadata": {
        "ExecuteTime": {
          "end_time": "2019-10-29T19:20:12.965936Z",
          "start_time": "2019-10-29T19:20:12.944423Z"
        },
        "colab": {
          "base_uri": "https://localhost:8080/"
        },
        "id": "niUS0CkoQFhs",
        "outputId": "719b7df9-d376-4d83-c9b3-f0794b4df3ee"
      },
      "outputs": [
        {
          "output_type": "execute_result",
          "data": {
            "text/plain": [
              "[('cacao', 1.0484222),\n",
              " ('cheese', 0.8700368),\n",
              " ('fromage', 0.72604525),\n",
              " ('goat', 0.7065043),\n",
              " ('provolone', 0.69485146),\n",
              " ('cassis', 0.6358205),\n",
              " ('shaving', 0.63251656),\n",
              " ('crema', 0.6226222),\n",
              " ('fresco', 0.62194633),\n",
              " ('grating', 0.5918395)]"
            ]
          },
          "metadata": {},
          "execution_count": 26
        }
      ],
      "source": [
        "embeddings.analogy('cake', 'cacao', 'cheese')"
      ]
    },
    {
      "cell_type": "code",
      "execution_count": null,
      "metadata": {
        "ExecuteTime": {
          "end_time": "2019-10-29T19:20:12.991060Z",
          "start_time": "2019-10-29T19:20:12.967532Z"
        },
        "colab": {
          "base_uri": "https://localhost:8080/"
        },
        "id": "WfbtmoCIQFhs",
        "outputId": "00a8fbb1-06e1-4976-aae9-c1f8833c876a"
      },
      "outputs": [
        {
          "output_type": "stream",
          "name": "stdout",
          "text": [
            "(18, 100)\n"
          ]
        }
      ],
      "source": [
        "test_words = ['salad', 'fish', 'salmon', 'sauvignon', 'beef', 'pork', 'steak', 'beer', 'cake', 'coffee', 'sausage', 'wine', 'merlot', 'zinfandel', 'trout', 'chardonnay', 'champagne', 'cacao']\n",
        "test_vectors = embeddings.get_vectors(*test_words)\n",
        "print(test_vectors.shape)"
      ]
    },
    {
      "cell_type": "code",
      "execution_count": null,
      "metadata": {
        "ExecuteTime": {
          "end_time": "2019-10-29T19:20:13.318676Z",
          "start_time": "2019-10-29T19:20:12.996595Z"
        },
        "colab": {
          "base_uri": "https://localhost:8080/",
          "height": 830
        },
        "id": "-jWsJxiLQFhs",
        "outputId": "8e2972a9-011a-4965-85e6-b8b4854966ce"
      },
      "outputs": [
        {
          "output_type": "display_data",
          "data": {
            "text/plain": [
              "<Figure size 1000x1000 with 1 Axes>"
            ],
            "image/png": "[encoded data removed]"
          },
          "metadata": {}
        }
      ],
      "source": [
        "fig, ax = plt.subplots()\n",
        "fig.set_size_inches((10, 10))\n",
        "plot_vectors(test_vectors, test_words, how='svd', ax=ax)"
      ]
    },
    {
      "cell_type": "markdown",
      "metadata": {
        "id": "bLGF8c0uQFhs"
      },
      "source": [
        "## Обучение Word2Vec с помощью Gensim"
      ]
    },
    {
      "cell_type": "code",
      "execution_count": null,
      "metadata": {
        "ExecuteTime": {
          "end_time": "2019-10-29T19:20:13.613797Z",
          "start_time": "2019-10-29T19:20:13.321353Z"
        },
        "colab": {
          "base_uri": "https://localhost:8080/"
        },
        "id": "mX75lg1sQFhs",
        "outputId": "5f17b03c-d560-4a1a-b308-b9c739ce4d3d"
      },
      "outputs": [
        {
          "output_type": "stream",
          "name": "stdout",
          "text": [
            "Requirement already satisfied: gensim in /usr/local/lib/python3.10/dist-packages (3.8.1)\n",
            "Collecting gensim\n",
            "  Downloading gensim-4.3.2-cp310-cp310-manylinux_2_17_x86_64.manylinux2014_x86_64.whl (26.5 MB)\n",
            "\u001b[2K     \u001b[90m━━━━━━━━━━━━━━━━━━━━━━━━━━━━━━━━━━━━━━━━\u001b[0m \u001b[32m26.5/26.5 MB\u001b[0m \u001b[31m42.1 MB/s\u001b[0m eta \u001b[36m0:00:00\u001b[0m\n",
            "\u001b[?25hRequirement already satisfied: numpy>=1.18.5 in /usr/local/lib/python3.10/dist-packages (from gensim) (1.25.2)\n",
            "Requirement already satisfied: scipy>=1.7.0 in /usr/local/lib/python3.10/dist-packages (from gensim) (1.11.4)\n",
            "Requirement already satisfied: smart-open>=1.8.1 in /usr/local/lib/python3.10/dist-packages (from gensim) (7.0.4)\n",
            "Requirement already satisfied: wrapt in /usr/local/lib/python3.10/dist-packages (from smart-open>=1.8.1->gensim) (1.14.1)\n",
            "Installing collected packages: gensim\n",
            "  Attempting uninstall: gensim\n",
            "    Found existing installation: gensim 3.8.1\n",
            "    Uninstalling gensim-3.8.1:\n",
            "      Successfully uninstalled gensim-3.8.1\n",
            "Successfully installed gensim-4.3.2\n"
          ]
        }
      ],
      "source": [
        "!pip install -U gensim\n",
        "import gensim"
      ]
    },
    {
      "cell_type": "code",
      "execution_count": null,
      "metadata": {
        "ExecuteTime": {
          "end_time": "2019-10-29T19:20:17.075005Z",
          "start_time": "2019-10-29T19:20:13.615729Z"
        },
        "id": "UCx267leQFhs"
      },
      "outputs": [],
      "source": [
        "word2vec = gensim.models.Word2Vec(sentences=train_tokenized, vector_size=100,\n",
        "                                  window=5, min_count=5, workers=4,\n",
        "                                  sg=1, epochs=10)"
      ]
    },
    {
      "cell_type": "code",
      "execution_count": null,
      "metadata": {
        "ExecuteTime": {
          "end_time": "2019-10-29T19:20:17.109583Z",
          "start_time": "2019-10-29T19:20:17.076599Z"
        },
        "colab": {
          "base_uri": "https://localhost:8080/"
        },
        "id": "10PemQKnQFhs",
        "outputId": "29a20e82-40df-418d-a8b2-e92ea7bff71c"
      },
      "outputs": [
        {
          "output_type": "execute_result",
          "data": {
            "text/plain": [
              "[('duck', 0.7245756387710571),\n",
              " ('pheasant', 0.7006482481956482),\n",
              " ('drumsticks', 0.69455486536026),\n",
              " ('thighs', 0.688622772693634),\n",
              " ('simmering', 0.6843438148498535),\n",
              " ('turkey', 0.6814379692077637),\n",
              " ('breasts', 0.6733411550521851),\n",
              " ('defatted', 0.6687349081039429),\n",
              " ('thigh', 0.6519435048103333),\n",
              " ('wings', 0.6480430960655212)]"
            ]
          },
          "metadata": {},
          "execution_count": 15
        }
      ],
      "source": [
        "word2vec.wv.most_similar('chicken')"
      ]
    },
    {
      "cell_type": "code",
      "source": [
        "test_words = ['salad', 'fish', 'salmon', 'sauvignon', 'beef', 'pork', 'steak', 'beer', 'cake', 'coffee', 'sausage', 'wine', 'merlot', 'zinfandel', 'trout', 'chardonnay', 'champagne', 'cacao']"
      ],
      "metadata": {
        "id": "XMONOXWyNCPw"
      },
      "execution_count": null,
      "outputs": []
    },
    {
      "cell_type": "code",
      "execution_count": null,
      "metadata": {
        "ExecuteTime": {
          "end_time": "2019-10-29T19:20:17.176357Z",
          "start_time": "2019-10-29T19:20:17.112948Z"
        },
        "id": "CGF5DkSnQFhs"
      },
      "outputs": [],
      "source": [
        "gensim_words = [w for w in test_words if w in word2vec.wv.key_to_index]\n",
        "gensim_vectors = np.stack([word2vec.wv[w] for w in gensim_words])"
      ]
    },
    {
      "cell_type": "code",
      "execution_count": null,
      "metadata": {
        "ExecuteTime": {
          "end_time": "2019-10-29T19:20:17.428874Z",
          "start_time": "2019-10-29T19:20:17.179311Z"
        },
        "colab": {
          "base_uri": "https://localhost:8080/",
          "height": 832
        },
        "id": "DZRcvXMEQFhs",
        "outputId": "931d412d-5c73-4382-a731-4d60d43ec55d"
      },
      "outputs": [
        {
          "output_type": "display_data",
          "data": {
            "text/plain": [
              "<Figure size 1000x1000 with 1 Axes>"
            ],
            "image/png": "[encoded data removed]"
          },
          "metadata": {}
        }
      ],
      "source": [
        "fig, ax = plt.subplots()\n",
        "fig.set_size_inches((10, 10))\n",
        "plot_vectors(gensim_vectors, test_words, how='svd', ax=ax)"
      ]
    },
    {
      "cell_type": "markdown",
      "metadata": {
        "id": "kR259PXeQFhs"
      },
      "source": [
        "## Загрузка предобученного Word2Vec\n",
        "\n",
        "Источники готовых векторов:\n",
        "\n",
        "https://rusvectores.org/ru/ - для русского языка\n",
        "\n",
        "https://wikipedia2vec.github.io/wikipedia2vec/pretrained/ - много разных языков"
      ]
    },
    {
      "cell_type": "code",
      "execution_count": null,
      "metadata": {
        "ExecuteTime": {
          "end_time": "2019-10-29T19:20:17.460133Z",
          "start_time": "2019-10-29T19:20:17.430563Z"
        },
        "id": "n42rtDjWQFht"
      },
      "outputs": [],
      "source": [
        "import gensim.downloader as api"
      ]
    },
    {
      "cell_type": "code",
      "execution_count": null,
      "metadata": {
        "ExecuteTime": {
          "end_time": "2019-10-29T19:20:17.980509Z",
          "start_time": "2019-10-29T19:20:17.462239Z"
        },
        "colab": {
          "base_uri": "https://localhost:8080/"
        },
        "id": "_1RCrmc2QFht",
        "outputId": "c7570fe4-48d4-406a-f815-3b703b6dbf85"
      },
      "outputs": [
        {
          "output_type": "stream",
          "name": "stdout",
          "text": [
            "fasttext-wiki-news-subwords-300\n",
            "conceptnet-numberbatch-17-06-300\n",
            "word2vec-ruscorpora-300\n",
            "word2vec-google-news-300\n",
            "glove-wiki-gigaword-50\n",
            "glove-wiki-gigaword-100\n",
            "glove-wiki-gigaword-200\n",
            "glove-wiki-gigaword-300\n",
            "glove-twitter-25\n",
            "glove-twitter-50\n",
            "glove-twitter-100\n",
            "glove-twitter-200\n",
            "__testing_word2vec-matrix-synopsis\n"
          ]
        }
      ],
      "source": [
        "available_models = api.info()['models'].keys()\n",
        "print('\\n'.join(available_models))"
      ]
    },
    {
      "cell_type": "markdown",
      "source": [
        "- Эта модель ниже была обучена кроме просто слов ещё и а биграмах\n",
        "- Чтобы такое провернуть, нужно взять достаточно частовстречающиеся вместе пары слов, слить их и сделать из них фиктивное \"слово\""
      ],
      "metadata": {
        "id": "RnCkZTbuO3xt"
      }
    },
    {
      "cell_type": "code",
      "execution_count": null,
      "metadata": {
        "ExecuteTime": {
          "end_time": "2019-10-29T19:22:12.649035Z",
          "start_time": "2019-10-29T19:20:17.984118Z"
        },
        "scrolled": false,
        "colab": {
          "base_uri": "https://localhost:8080/",
          "height": 304
        },
        "id": "mjg98urCQFht",
        "outputId": "14c3ce6c-3dfb-4a93-dd6a-2ad8ab473bf6"
      },
      "outputs": [
        {
          "output_type": "stream",
          "name": "stdout",
          "text": [
            "[===================================---------------] 71.6% 1190.9/1662.8MB downloaded"
          ]
        },
        {
          "output_type": "error",
          "ename": "ContentTooShortError",
          "evalue": "<urlopen error retrieval incomplete: got only 1248720348 out of 1743563840 bytes>",
          "traceback": [
            "\u001b[0;31m---------------------------------------------------------------------------\u001b[0m",
            "\u001b[0;31mContentTooShortError\u001b[0m                      Traceback (most recent call last)",
            "\u001b[0;32m<ipython-input-23-86e7521c2983>\u001b[0m in \u001b[0;36m<cell line: 1>\u001b[0;34m()\u001b[0m\n\u001b[0;32m----> 1\u001b[0;31m \u001b[0mpretrained\u001b[0m \u001b[0;34m=\u001b[0m \u001b[0mapi\u001b[0m\u001b[0;34m.\u001b[0m\u001b[0mload\u001b[0m\u001b[0;34m(\u001b[0m\u001b[0;34m'word2vec-google-news-300'\u001b[0m\u001b[0;34m)\u001b[0m  \u001b[0;31m# > 1.5 GB!\u001b[0m\u001b[0;34m\u001b[0m\u001b[0;34m\u001b[0m\u001b[0m\n\u001b[0m",
            "\u001b[0;32m/usr/local/lib/python3.10/dist-packages/gensim/downloader.py\u001b[0m in \u001b[0;36mload\u001b[0;34m(name, return_path)\u001b[0m\n\u001b[1;32m    494\u001b[0m     \u001b[0mpath\u001b[0m \u001b[0;34m=\u001b[0m \u001b[0mos\u001b[0m\u001b[0;34m.\u001b[0m\u001b[0mpath\u001b[0m\u001b[0;34m.\u001b[0m\u001b[0mjoin\u001b[0m\u001b[0;34m(\u001b[0m\u001b[0mfolder_dir\u001b[0m\u001b[0;34m,\u001b[0m \u001b[0mfile_name\u001b[0m\u001b[0;34m)\u001b[0m\u001b[0;34m\u001b[0m\u001b[0;34m\u001b[0m\u001b[0m\n\u001b[1;32m    495\u001b[0m     \u001b[0;32mif\u001b[0m \u001b[0;32mnot\u001b[0m \u001b[0mos\u001b[0m\u001b[0;34m.\u001b[0m\u001b[0mpath\u001b[0m\u001b[0;34m.\u001b[0m\u001b[0mexists\u001b[0m\u001b[0;34m(\u001b[0m\u001b[0mfolder_dir\u001b[0m\u001b[0;34m)\u001b[0m\u001b[0;34m:\u001b[0m\u001b[0;34m\u001b[0m\u001b[0;34m\u001b[0m\u001b[0m\n\u001b[0;32m--> 496\u001b[0;31m         \u001b[0m_download\u001b[0m\u001b[0;34m(\u001b[0m\u001b[0mname\u001b[0m\u001b[0;34m)\u001b[0m\u001b[0;34m\u001b[0m\u001b[0;34m\u001b[0m\u001b[0m\n\u001b[0m\u001b[1;32m    497\u001b[0m \u001b[0;34m\u001b[0m\u001b[0m\n\u001b[1;32m    498\u001b[0m     \u001b[0;32mif\u001b[0m \u001b[0mreturn_path\u001b[0m\u001b[0;34m:\u001b[0m\u001b[0;34m\u001b[0m\u001b[0;34m\u001b[0m\u001b[0m\n",
            "\u001b[0;32m/usr/local/lib/python3.10/dist-packages/gensim/downloader.py\u001b[0m in \u001b[0;36m_download\u001b[0;34m(name)\u001b[0m\n\u001b[1;32m    394\u001b[0m         \u001b[0mfname\u001b[0m \u001b[0;34m=\u001b[0m \u001b[0;34m\"{fname}.gz\"\u001b[0m\u001b[0;34m.\u001b[0m\u001b[0mformat\u001b[0m\u001b[0;34m(\u001b[0m\u001b[0mfname\u001b[0m\u001b[0;34m=\u001b[0m\u001b[0mname\u001b[0m\u001b[0;34m)\u001b[0m\u001b[0;34m\u001b[0m\u001b[0;34m\u001b[0m\u001b[0m\n\u001b[1;32m    395\u001b[0m         \u001b[0mdst_path\u001b[0m \u001b[0;34m=\u001b[0m \u001b[0mos\u001b[0m\u001b[0;34m.\u001b[0m\u001b[0mpath\u001b[0m\u001b[0;34m.\u001b[0m\u001b[0mjoin\u001b[0m\u001b[0;34m(\u001b[0m\u001b[0mtmp_dir\u001b[0m\u001b[0;34m,\u001b[0m \u001b[0mfname\u001b[0m\u001b[0;34m)\u001b[0m\u001b[0;34m\u001b[0m\u001b[0;34m\u001b[0m\u001b[0m\n\u001b[0;32m--> 396\u001b[0;31m         \u001b[0murllib\u001b[0m\u001b[0;34m.\u001b[0m\u001b[0murlretrieve\u001b[0m\u001b[0;34m(\u001b[0m\u001b[0murl_data\u001b[0m\u001b[0;34m,\u001b[0m \u001b[0mdst_path\u001b[0m\u001b[0;34m,\u001b[0m \u001b[0mreporthook\u001b[0m\u001b[0;34m=\u001b[0m\u001b[0m_progress\u001b[0m\u001b[0;34m)\u001b[0m\u001b[0;34m\u001b[0m\u001b[0;34m\u001b[0m\u001b[0m\n\u001b[0m\u001b[1;32m    397\u001b[0m         \u001b[0;32mif\u001b[0m \u001b[0m_calculate_md5_checksum\u001b[0m\u001b[0;34m(\u001b[0m\u001b[0mdst_path\u001b[0m\u001b[0;34m)\u001b[0m \u001b[0;34m==\u001b[0m \u001b[0m_get_checksum\u001b[0m\u001b[0;34m(\u001b[0m\u001b[0mname\u001b[0m\u001b[0;34m)\u001b[0m\u001b[0;34m:\u001b[0m\u001b[0;34m\u001b[0m\u001b[0;34m\u001b[0m\u001b[0m\n\u001b[1;32m    398\u001b[0m             \u001b[0msys\u001b[0m\u001b[0;34m.\u001b[0m\u001b[0mstdout\u001b[0m\u001b[0;34m.\u001b[0m\u001b[0mwrite\u001b[0m\u001b[0;34m(\u001b[0m\u001b[0;34m\"\\n\"\u001b[0m\u001b[0;34m)\u001b[0m\u001b[0;34m\u001b[0m\u001b[0;34m\u001b[0m\u001b[0m\n",
            "\u001b[0;32m/usr/lib/python3.10/urllib/request.py\u001b[0m in \u001b[0;36murlretrieve\u001b[0;34m(url, filename, reporthook, data)\u001b[0m\n\u001b[1;32m    278\u001b[0m \u001b[0;34m\u001b[0m\u001b[0m\n\u001b[1;32m    279\u001b[0m     \u001b[0;32mif\u001b[0m \u001b[0msize\u001b[0m \u001b[0;34m>=\u001b[0m \u001b[0;36m0\u001b[0m \u001b[0;32mand\u001b[0m \u001b[0mread\u001b[0m \u001b[0;34m<\u001b[0m \u001b[0msize\u001b[0m\u001b[0;34m:\u001b[0m\u001b[0;34m\u001b[0m\u001b[0;34m\u001b[0m\u001b[0m\n\u001b[0;32m--> 280\u001b[0;31m         raise ContentTooShortError(\n\u001b[0m\u001b[1;32m    281\u001b[0m             \u001b[0;34m\"retrieval incomplete: got only %i out of %i bytes\"\u001b[0m\u001b[0;34m\u001b[0m\u001b[0;34m\u001b[0m\u001b[0m\n\u001b[1;32m    282\u001b[0m             % (read, size), result)\n",
            "\u001b[0;31mContentTooShortError\u001b[0m: <urlopen error retrieval incomplete: got only 1248720348 out of 1743563840 bytes>"
          ]
        }
      ],
      "source": [
        "pretrained = api.load('word2vec-google-news-300')  # > 1.5 GB!"
      ]
    },
    {
      "cell_type": "code",
      "execution_count": null,
      "metadata": {
        "ExecuteTime": {
          "end_time": "2019-10-29T19:22:12.651388Z",
          "start_time": "2019-10-29T19:19:29.817Z"
        },
        "id": "c2wX0OEQQFht"
      },
      "outputs": [],
      "source": [
        "pretrained.most_similar('cheese')"
      ]
    },
    {
      "cell_type": "code",
      "execution_count": null,
      "metadata": {
        "ExecuteTime": {
          "end_time": "2019-10-29T19:22:12.652649Z",
          "start_time": "2019-10-29T19:19:29.820Z"
        },
        "id": "VGLJnfhGQFht"
      },
      "outputs": [],
      "source": [
        "pretrained.most_similar(positive=['man', 'queen'], negative=['king'])"
      ]
    },
    {
      "cell_type": "code",
      "execution_count": null,
      "metadata": {
        "ExecuteTime": {
          "end_time": "2019-10-29T19:22:12.653584Z",
          "start_time": "2019-10-29T19:19:29.823Z"
        },
        "id": "fy40x0JUQFht"
      },
      "outputs": [],
      "source": [
        "pretrained_words = [w for w in test_words if w in pretrained.vocab]\n",
        "pretrained_vectors = np.stack([pretrained[w] for w in pretrained_words])"
      ]
    },
    {
      "cell_type": "code",
      "execution_count": null,
      "metadata": {
        "ExecuteTime": {
          "end_time": "2019-10-29T19:22:12.654594Z",
          "start_time": "2019-10-29T19:19:29.828Z"
        },
        "id": "5025uWuXQFht"
      },
      "outputs": [],
      "source": [
        "fig, ax = plt.subplots()\n",
        "fig.set_size_inches((10, 10))\n",
        "plot_vectors(pretrained_vectors, test_words, how='svd', ax=ax)"
      ]
    },
    {
      "cell_type": "markdown",
      "metadata": {
        "id": "5GZQ2r2aQFhz"
      },
      "source": [
        "## Заключение\n",
        "\n",
        "* Реализовали Skip Gram Negative Sampling на PyTorch\n",
        "* Обучили на корпусе рецептов\n",
        "    * Сходство слов модель выучила неплохо\n",
        "    * Для аналогий мало данных\n",
        "* Обучили SGNS с помощью библиотеки Gensim\n",
        "* Загрузили веса Word2Vec, полученные с помощью большого корпуса (GoogleNews)\n",
        "    * Списки похожих слов отличаются!\n",
        "    * Аналогии работают"
      ]
    },
    {
      "cell_type": "markdown",
      "source": [],
      "metadata": {
        "id": "HipEcxIT1wnn"
      }
    },
    {
      "cell_type": "markdown",
      "source": [
        "# TODO:\n",
        "1. Узнать как измерять качество построенного эмбеддинга\n",
        "2. В качестве домашнего задания мы предлагаем Вам поэкспериментировать с кодом этого семинара, чтобы лучше понять свойства эмбеддингов и попробовать улучшить их качество. Что можно попробовать сделать:\n",
        "\n",
        "- поиграться с параметрами - количеством отрицательных слов, размером батча, скоростью обучения, размером окна\n",
        "- убрать разбиение текстов на предложения и увеличить окно\n",
        "- изменить токенизацию, например, разобравшись с библиотекой SpaCy и подключив лемматизацию и POS-теггинг, чтобы строить эмбеддинги не для словоформ, а для лемм (например, chicked_NOUN)\n",
        "- реализовать FastText и сравнить, как отличаются списки похожих документов, получаемых с помощью Word2Vec и FastText\n",
        "- усложнить алгоритм оценки вероятности совместной встречаемости слов, например, заменив скалярное произведение на нейросеть с парой слоёв\n",
        "- Также мы предлагаем Вам не ограничиваться этим списком, а придумать свои способы заставить Word2Vec выучить что-то интересное и полезное.\n",
        "\n",
        "Опишите то, что у Вас получилось, в ответе к этому шагу."
      ],
      "metadata": {
        "id": "t0TlJKfBQeq-"
      }
    },
    {
      "cell_type": "markdown",
      "source": [
        "## Оценка качества эмбеддингов"
      ],
      "metadata": {
        "id": "KZyxGYkg5scm"
      }
    },
    {
      "cell_type": "code",
      "execution_count": null,
      "metadata": {
        "id": "Ub9A-4i-QFh0",
        "colab": {
          "base_uri": "https://localhost:8080/"
        },
        "outputId": "943f4478-97a5-4d91-cd1a-bc2112ebf0f3"
      },
      "outputs": [
        {
          "output_type": "execute_result",
          "data": {
            "text/plain": [
              "('word2vec.zip', <http.client.HTTPMessage at 0x791d29ce1300>)"
            ]
          },
          "metadata": {},
          "execution_count": 5
        }
      ],
      "source": [
        "import urllib.request\n",
        "\n",
        "# Скачивание файла questions-words.txt\n",
        "url = 'https://storage.googleapis.com/google-code-archive-source/v2/code.google.com/word2vec/source-archive.zip'\n",
        "urllib.request.urlretrieve(url, 'word2vec.zip')"
      ]
    },
    {
      "cell_type": "code",
      "source": [
        "import zipfile\n",
        "\n",
        "# Распаковка архива\n",
        "with zipfile.ZipFile('word2vec.zip', 'r') as zip_ref:\n",
        "    zip_ref.extractall('word2vec')"
      ],
      "metadata": {
        "id": "mJR5XwvU8Dec"
      },
      "execution_count": null,
      "outputs": []
    },
    {
      "cell_type": "code",
      "source": [
        "# Function to parse the text file\n",
        "def parse_file_to_dfs(file_path):\n",
        "    with open(file_path, 'r') as file:\n",
        "        lines = file.readlines()\n",
        "\n",
        "    dfs = {}\n",
        "    current_section = []\n",
        "    current_name = None\n",
        "\n",
        "    for line in lines:\n",
        "        line = line.strip()\n",
        "        if line.startswith(':'):\n",
        "            if current_section:\n",
        "                # Convert current section to DataFrame and add to list\n",
        "                df = pd.DataFrame([row.split() for row in current_section], columns=[\"1st_a\", \"1st_b\", \"2nd_a\", \"2nd_b\"])\n",
        "                dfs[current_name]=df\n",
        "                current_section = []\n",
        "            current_name = line[1:].strip()  # Get the name of the new data piece\n",
        "        else:\n",
        "            current_section.append(line)\n",
        "\n",
        "    # Don't forget to add the last section\n",
        "    if current_section:\n",
        "        df = pd.DataFrame([row.split() for row in current_section], columns=[\"1st_a\", \"1st_b\", \"2nd_a\", \"2nd_b\"])\n",
        "        dfs[current_name]=df\n",
        "\n",
        "    return dfs"
      ],
      "metadata": {
        "id": "AgjAzgv1DYpx"
      },
      "execution_count": null,
      "outputs": []
    },
    {
      "cell_type": "code",
      "source": [
        "# Чтение файла questions-words.txt\n",
        "file_path = 'word2vec/word2vec/trunk/questions-words.txt'\n",
        "\n",
        "google_analogies = parse_file_to_dfs(file_path)"
      ],
      "metadata": {
        "id": "sh8brL1eADAl"
      },
      "execution_count": null,
      "outputs": []
    },
    {
      "cell_type": "markdown",
      "source": [
        "##1.  Поиграемся с параметрами обучения, уберем разбиение текста на предложения"
      ],
      "metadata": {
        "id": "D-dkJ53BArnT"
      }
    },
    {
      "cell_type": "markdown",
      "source": [
        "По ощущениям убирать разбиение текста на предложения при обучении имеет смысл, когда эти предложения как-то семантически связаны друг с другом, т.е. когда контекст слова не ограничивается одним предлодением, а какой-то областью текста"
      ],
      "metadata": {
        "id": "Jn0nRdbsTMc5"
      }
    },
    {
      "cell_type": "markdown",
      "source": [
        "Ну заметим что прошлый датасет для обучения был из очень узкой области - рецепты блюд, там предложения короткие и грамматически скудные, поэтому будем использовать другой"
      ],
      "metadata": {
        "id": "nXXhhY5SEkel"
      }
    },
    {
      "cell_type": "code",
      "source": [
        "!unzip imdb_dataset.zip"
      ],
      "metadata": {
        "colab": {
          "base_uri": "https://localhost:8080/"
        },
        "id": "Uvk8YXlWSw7J",
        "outputId": "b056a322-6750-42c4-b05e-02714c2c5bb2"
      },
      "execution_count": 6,
      "outputs": [
        {
          "output_type": "stream",
          "name": "stdout",
          "text": [
            "Archive:  imdb_dataset.zip\n",
            "  inflating: IMDB Dataset.csv        \n"
          ]
        }
      ]
    },
    {
      "cell_type": "code",
      "source": [
        "full_dataset = list(pd.read_csv('IMDB Dataset.csv')['review'].dropna())\n",
        "random.shuffle(full_dataset)\n",
        "\n",
        "TRAIN_VAL_SPLIT = int(len(full_dataset) * 0.7)\n",
        "train_source = full_dataset[:TRAIN_VAL_SPLIT]\n",
        "test_source = full_dataset[TRAIN_VAL_SPLIT:]\n",
        "print(\"Обучающая выборка\", len(train_source))\n",
        "print(\"Тестовая выборка\", len(test_source))"
      ],
      "metadata": {
        "colab": {
          "base_uri": "https://localhost:8080/"
        },
        "id": "6O-FbGNpTk2d",
        "outputId": "63c47ea7-c461-4daf-a9f6-387d581c380b"
      },
      "execution_count": 7,
      "outputs": [
        {
          "output_type": "stream",
          "name": "stdout",
          "text": [
            "Обучающая выборка 35000\n",
            "Тестовая выборка 15000\n"
          ]
        }
      ]
    },
    {
      "cell_type": "code",
      "source": [
        "print(''.join(train_source[9]))"
      ],
      "metadata": {
        "colab": {
          "base_uri": "https://localhost:8080/"
        },
        "id": "IhXQsPTaU8WB",
        "outputId": "fef3cc51-d880-4ae9-b8ab-18fd1137810c"
      },
      "execution_count": 8,
      "outputs": [
        {
          "output_type": "stream",
          "name": "stdout",
          "text": [
            "This movie is perfect for families to watch together. It is a great film and it deserves more credit. The special effects are stunning and spectacular. Everyone who has children should share this with theirs.\n"
          ]
        }
      ]
    },
    {
      "cell_type": "code",
      "source": [
        "from nltk.tokenize import RegexpTokenizer\n",
        "tokenizer = RegexpTokenizer(r'\\w+')\n",
        "\n",
        "import nltk"
      ],
      "metadata": {
        "id": "AEbwLFUlVBUo"
      },
      "execution_count": 9,
      "outputs": []
    },
    {
      "cell_type": "code",
      "execution_count": 10,
      "metadata": {
        "ExecuteTime": {
          "end_time": "2019-10-29T19:19:32.137838Z",
          "start_time": "2019-10-29T19:19:31.272363Z"
        },
        "colab": {
          "base_uri": "https://localhost:8080/"
        },
        "outputId": "2fba4276-2937-430a-e1cc-4d68af870481",
        "id": "o6KjW7FuV2b0"
      },
      "outputs": [
        {
          "output_type": "stream",
          "name": "stdout",
          "text": [
            "Billy and Jade had a very close relationship that went to far one evening even though Billy was sleeping with Jade s mother Jade has to deal with the fact that her mother may never know and that it will never happen again Billy is played by Rob Estes who couldn t have looked better Lifetime tv has made another movie that everyone is bound to like\n",
            "This movie couldn t decide what it wanted to be There were a couple of sub plots that for awhile made you think these items would all come together in the end but they didn t If you want a alien in the frozen waste story stick with the 1950 s version of THE THING not the abomination that was remade in gore o vision 20 years later br br I couldn t get over the fact that the alien looked pretty much recycled from INDEPENDENCE DAY br br The bare minimum sets would have been more effective if they had hired actors who could actually act and carry off the intended mood br br Lots of scenery chewing with little payoff\n",
            "It s not the most well made slasher movies of all time but for what it is it s pretty amusing The plot is lame but the kills are not too bad I have to be honest if you don t follow the bands that are featured in this film you wont find this film as funny as those who do I knew someone who saw this film and was really disappointed because of the poor quality of the film but you have to understand that it was made in the spare time of being on tour in between playing to moshing kids and drinkin with friends backstage it s not made to be taken seriously It s ubber cheese at it s punk best and with over 100 kills most of which are ultra gory it s a fun movie to have friends over to watch drink and be merry\n",
            "The youthful group in St Elmo s Fire who just graduated from college barely seem able to make it through high school much less four years at any prominent university For the most part these kids are irresponsible selfish greedy and stupid yet co writer and director Joel Schumacher appears to hold them up as touchstones for a generation With a now outdated cast of up and comers a background score that sounds awfully similar to that of Terms Of Endearment and writing which lords the smugness of this circle over us Fire is a paltry blaze one that gets even more embarrassing as the years pass on 1 2 from\n",
            "Horrible film About an old crusty painter who hangs around with a young girl Boring Tatum O Neil goes through the motions in her part and has some of the corniest lines in film history Richard Burton looks close to death in this film and we re supposed to believe he looks Good for sixty The acting is bad as is the plot The characters are awful as is the story It s really hard to feel for anyone in this film except Larry Ewashen who plays a guy in a porno theater who hits on Tatum he s kind of funny This movie is really a waste of time If you are a Tatum fan like me which is why I rented it in the first place please don t see this movie She is really bad in it and you ll wonder if maybe PAPER MOON was a fluke It wasn t because of BAD NEWS BEARS and LITTLE DARLINGS it s known she can act well but still don t rent this movie And if you re a fan of Burton rent something when he was good looking and not a fossil\n",
            "This one is a bit more stylish than the average erotic thriller and Peta Wilson is a very sexy presence but it plays like they lost a few pages of script somewhere Subplots come in and out of nowhere the connections between some of the characters are murky and the killer s motivation is unclear to say the least Maybe they could get away with this in a porn version but here some more clarification is needed\n",
            "What made the French Connection work so well was the relationship between Doyle Hackman and Russo Scheider In this catastrophe directed by Frankenheimer who also brought us such gems as Raindeer Games and the Island of Dr Moreau the movie focuses on Doyle and his singular obsession of capturing Charnier Rey The fictitious idea that the NYPD would allow Doyle to travel to Marseilles to find Charnier with the help of the French local authorities is laugh out loud funny Correct me if I m wrong but didn t Charnier skip town with 65 pounds of pure smack A street value of 32 million but yeah let s send Doyle to find this guy it was his pinch after all Please The story was weak The acting was terrible with the lone exception of Hackman who completely overplayed his part The direction was all over the place Even the cuts between scenes were terrible Do yourself a favor and watch the first installment twice and skip this one\n",
            "Assy McGee is an out of control hard nosed detective based on the countless examples from late 20th century police dramas The twist here is that Assy is literally a walking buttocks br br The cheap low brow facade of the show belies its cleverness and hidden satire That is not to say that Assy is devoid of fart jokes just that the toilet humor is used sparingly enough to elicit consistent laughs not groans and eye rolls The title sequence of the program demonstrates the clever subtle humor used throughout The sequence consists of panning photos of the city set to a jazzy 70s cop theme In one photo a police cruiser is shown and the camera zooms in on the front license plate holder which is vacant The meaningless zoom in satirizes the production of the typical 70s 80s cop drama and incidentally makes me laugh every time br br All the typical characters are included the frustrated police chief who can t control Assy the loyal minority partner who acts as a foil to Assy s recklessness the regular cops who detest Assy s means all are accounted for and all are hilarious satires of the typical police drama br br The voice acting primarily performed by Larry Murphy is nothing less than spectacular Assy s voice breathy and gruff with a bit of a drunken slur is so clever and unique that it ranks alongside all time greats like Stewie Griffin Family Guy and Homer Simpson Simpsons Though the voice is slurred the diction is somehow clear and easy to understand This is a nice change from other Adult Swim program voices that often require closed captioning to understand br br Besides the fantastic production and voice acting the script is also hilarious Assy s no nonsense directness fuels most of the humor particularly in his interactions with citizens outside the police force br br If you have access to the Adult Swim comedies Assy McGee is certainly worth the watching Each episode clocks in at a mere 8 9 minutes so you really have little to lose\n",
            "Set in the 1794 the second year of the French republic formed after the execution of Louis XVI this film portrays the power struggle between the revolutionary leaders Danton Gerard Depardieu at his finest and Robespierre a commanding performance by the Polish actor Wojciech Pszoniak The moderate revolutionary Danton has returned to Paris from his country seat where he has been since being deposed as leader of the Committee of Public Safety in the previous year by Robespierre He is opposed to The Reign Of Terror which has resulted in the executions of thousands of citizens mainly by guillotine who are thought to be opposed to the Revolution Danton is confident of the support of the ordinary people and tries to persuade Robespierre to curb the bloodletting But Robespierre and the Committee are afraid that the popularity of Danton will lead to them being overthrown and put Danton and his supporters on trial for being traitors This was the first French language film made by Andrzej Wajda after he had arrived in France from Poland His Polish film company was closed down by the government due to his support for the Solidarity trade union which had opposed the Polish government in the late seventies and early eighties His previous film Man Of Iron 1981 had dealt with the Solidarity union and its leader Lech Walesa and it is easy to draw comparisons between the relationship of Walesa and the Polish leader General Jaruselski and that between Danton and Robespierre Danton Walesa are the voice of reason opposed to Robespierre Jaruselski who continue dictatorial rule despite having lost the support of the people they claim to represent The film is based on the Polish play The Danton Affair written by Stanislawa Przybyszewska in the 1930s and on its release the film was criticised by some for being static and theatrical But what the film does is to concentrate on the behind the scenes meetings of the Committees and the scenes in the National Assembly and the courtroom rather than the activities on the streets of Paris\n",
            "This movie is perfect for families to watch together It is a great film and it deserves more credit The special effects are stunning and spectacular Everyone who has children should share this with theirs\n"
          ]
        }
      ],
      "source": [
        "# токенизируем\n",
        "train_tokenized = tokenize_corpus(train_source, tokenizer.tokenize)\n",
        "test_tokenized = tokenize_corpus(test_source, tokenizer.tokenize)\n",
        "print('\\n'.join(' '.join(sent) for sent in train_tokenized[:10]))"
      ]
    },
    {
      "cell_type": "code",
      "execution_count": 11,
      "metadata": {
        "ExecuteTime": {
          "end_time": "2019-10-29T19:19:32.325205Z",
          "start_time": "2019-10-29T19:19:32.140837Z"
        },
        "colab": {
          "base_uri": "https://localhost:8080/"
        },
        "outputId": "04e86e52-36cc-4f47-ca44-9e674243e609",
        "id": "MEJspdm_V2b7"
      },
      "outputs": [
        {
          "output_type": "stream",
          "name": "stdout",
          "text": [
            "Размер словаря 36846\n",
            "[('<PAD>', 0), ('is', 1), ('in', 2), ('this', 3), ('it', 4), ('that', 5), ('I', 6), ('s', 7), ('The', 8), ('for', 9)]\n"
          ]
        }
      ],
      "source": [
        "# строим словарь\n",
        "# Вводим фиктивный токен паддинга для того, чтобы в дальнейшем можно было объединить предложения разной длины в один прямоугольный тензор\n",
        "PAD_WORD = '<PAD>'\n",
        "vocabulary, word_doc_freq = build_vocabulary(train_tokenized, max_doc_freq=0.9, min_count=5, pad_word=PAD_WORD)\n",
        "print(\"Размер словаря\", len(vocabulary))\n",
        "print(list(vocabulary.items())[:10])"
      ]
    },
    {
      "cell_type": "code",
      "execution_count": 12,
      "metadata": {
        "ExecuteTime": {
          "end_time": "2019-10-29T19:19:32.686258Z",
          "start_time": "2019-10-29T19:19:32.327711Z"
        },
        "colab": {
          "base_uri": "https://localhost:8080/"
        },
        "outputId": "52e8300d-4a42-4bbd-b859-32d320cc7ec5",
        "id": "bNz4DdelV2b7"
      },
      "outputs": [
        {
          "output_type": "stream",
          "name": "stdout",
          "text": [
            "34 23 1 217 46 3208 65 852 2972 752 28094 2989 1 50 1327 1246 11 4 310 30 40 485 162 5320 227 1198 33253 203 2 35 1288 6462 205 45 100 21 7347 723 7 3379 1 7679 129 204 722 40 84 69 233 10 3 2 1735 397 11 142 45 46 28095 1 821\n",
            "194 75 996 12694 158 33 70 12 681 205 8887 10320 7263 12134 120 3 9966 525 28 21113 32 90 782 229 140 4897 14 8643 2526 1037 11868 15 2548 13 8887 37 11867 3262 4399 24686 8 9798 314 5 13317 53 1726 8887 2296 157 10 342 996 730 5321 1 428 35 1235 173 21114 63 52 6 144 357 11 156 16 2632 624 10 11630 7512 1077 9477 98 1221 1029 10911 1601 11 1850 340 7 2197 8887 157 3 252 4 12 37 20141 115 25 1480 8 61 12 864 8 96 12 431 10 6277 1374 10320 32 332 11629 37 178 8 457 12 25 123 270 390 1870 205 135 68 431 1114 612 1899 99 85 4124 1536 2632 3 23\n"
          ]
        }
      ],
      "source": [
        "# отображаем в номера токенов\n",
        "train_token_ids = texts_to_token_ids(train_tokenized, vocabulary)\n",
        "test_token_ids = texts_to_token_ids(test_tokenized, vocabulary)\n",
        "\n",
        "print('\\n'.join(' '.join(str(t) for t in sent)\n",
        "                for sent in train_token_ids[5:7]))"
      ]
    },
    {
      "cell_type": "code",
      "execution_count": 13,
      "metadata": {
        "ExecuteTime": {
          "end_time": "2019-10-29T19:19:32.967989Z",
          "start_time": "2019-10-29T19:19:32.688319Z"
        },
        "colab": {
          "base_uri": "https://localhost:8080/",
          "height": 452
        },
        "outputId": "4e57da45-7f31-4902-98d1-cd59bf8f34f6",
        "id": "jor5gRVqV2b7"
      },
      "outputs": [
        {
          "output_type": "display_data",
          "data": {
            "text/plain": [
              "<Figure size 640x480 with 1 Axes>"
            ],
            "image/png": "[encoded data removed]"
          },
          "metadata": {}
        }
      ],
      "source": [
        "plt.hist([len(s) for s in train_token_ids], bins=20);\n",
        "plt.title('Гистограмма длин текстов');"
      ]
    },
    {
      "cell_type": "code",
      "execution_count": 14,
      "metadata": {
        "ExecuteTime": {
          "end_time": "2019-10-29T19:19:33.001487Z",
          "start_time": "2019-10-29T19:19:32.970153Z"
        },
        "colab": {
          "base_uri": "https://localhost:8080/"
        },
        "outputId": "5125b267-2c4a-46b6-a0ee-7998610acb4f",
        "id": "-_MuVkOaWzjQ"
      },
      "outputs": [
        {
          "output_type": "stream",
          "name": "stdout",
          "text": [
            "(tensor([ 1887, 20140,    62,  ...,     0,     0,     0]), tensor(0))\n"
          ]
        }
      ],
      "source": [
        "MAX_TEXT_LEN = 1250\n",
        "# Представляем корупс текстов в виже прямоугольной матрицы текстов,\n",
        "# выравниваем длину предложений фиктивным словом\n",
        "train_dataset = PaddedSequenceDataset(train_token_ids,\n",
        "                                      np.zeros(len(train_token_ids)),\n",
        "                                      out_len=MAX_TEXT_LEN, pad_value=vocabulary[PAD_WORD])\n",
        "test_dataset = PaddedSequenceDataset(test_token_ids,\n",
        "                                     np.zeros(len(test_token_ids)),\n",
        "                                     out_len=MAX_TEXT_LEN, pad_value=vocabulary[PAD_WORD])\n",
        "print(train_dataset[0])"
      ]
    },
    {
      "cell_type": "code",
      "execution_count": 15,
      "metadata": {
        "ExecuteTime": {
          "end_time": "2019-10-29T19:19:33.130307Z",
          "start_time": "2019-10-29T19:19:33.103036Z"
        },
        "id": "LG2WJJ7GXd-9"
      },
      "outputs": [],
      "source": [
        "trainer = SkipGramNegativeSamplingTrainer(len(vocabulary), 100, MAX_TEXT_LEN,\n",
        "                                          radius=5, negative_samples_n=25)"
      ]
    },
    {
      "cell_type": "code",
      "execution_count": 17,
      "metadata": {
        "ExecuteTime": {
          "end_time": "2019-10-29T19:20:12.830221Z",
          "start_time": "2019-10-29T19:19:33.132062Z"
        },
        "scrolled": false,
        "colab": {
          "base_uri": "https://localhost:8080/"
        },
        "outputId": "aa763cd2-aaa0-42c5-c44e-cbddb7e938ff",
        "id": "pfgKStFrXd-9"
      },
      "outputs": [
        {
          "output_type": "stream",
          "name": "stdout",
          "text": [
            "Эпоха 0\n",
            "Эпоха: 2001 итераций, 24.79 сек\n",
            "Среднее значение функции потерь на обучении 0.6136299045249142\n",
            "Среднее значение функции потерь на валидации 0.5920494851907094\n",
            "Новая лучшая модель!\n",
            "\n",
            "Эпоха 1\n",
            "Эпоха: 2001 итераций, 22.97 сек\n",
            "Среднее значение функции потерь на обучении 0.5920696676611483\n",
            "Среднее значение функции потерь на валидации 0.5920330936431885\n",
            "Новая лучшая модель!\n",
            "\n",
            "Эпоха 2\n",
            "Эпоха: 2001 итераций, 23.34 сек\n",
            "Среднее значение функции потерь на обучении 0.5913759611625186\n",
            "Среднее значение функции потерь на валидации 0.5918343498547872\n",
            "Новая лучшая модель!\n",
            "\n",
            "Эпоха 3\n",
            "Эпоха: 2001 итераций, 23.16 сек\n",
            "Среднее значение функции потерь на обучении 0.5919629558511283\n",
            "Среднее значение функции потерь на валидации 0.5917145998001099\n",
            "Новая лучшая модель!\n",
            "\n",
            "Эпоха 4\n",
            "Эпоха: 2001 итераций, 23.45 сек\n",
            "Среднее значение функции потерь на обучении 0.5915734655019463\n",
            "Среднее значение функции потерь на валидации 0.5916807626565297\n",
            "Новая лучшая модель!\n",
            "\n",
            "Эпоха 5\n",
            "Эпоха: 2001 итераций, 23.55 сек\n",
            "Среднее значение функции потерь на обучении 0.5912493582906155\n",
            "Среднее значение функции потерь на валидации 0.5915219470500946\n",
            "Новая лучшая модель!\n",
            "\n",
            "Эпоха 6\n",
            "Эпоха: 2001 итераций, 23.28 сек\n",
            "Среднее значение функции потерь на обучении 0.5917761147409484\n",
            "Среднее значение функции потерь на валидации 0.5914777464548747\n",
            "Новая лучшая модель!\n",
            "\n",
            "Эпоха 7\n",
            "Эпоха: 2001 итераций, 23.45 сек\n",
            "Среднее значение функции потерь на обучении 0.5907535318253577\n",
            "Среднее значение функции потерь на валидации 0.5914900959809621\n",
            "\n",
            "Эпоха 8\n",
            "Эпоха: 2001 итераций, 24.01 сек\n",
            "Среднее значение функции потерь на обучении 0.5897882614565872\n",
            "Среднее значение функции потерь на валидации 0.5910216087818145\n",
            "Новая лучшая модель!\n",
            "\n",
            "Эпоха 9\n",
            "Эпоха: 2001 итераций, 23.41 сек\n",
            "Среднее значение функции потерь на обучении 0.5904517174660713\n",
            "Среднее значение функции потерь на валидации 0.5909376255512238\n",
            "Новая лучшая модель!\n",
            "\n"
          ]
        }
      ],
      "source": [
        "best_val_loss, best_model = train_eval_loop(trainer,\n",
        "                                            train_dataset,\n",
        "                                            test_dataset,\n",
        "                                            no_loss,\n",
        "                                            lr=1e-2,\n",
        "                                            epoch_n=10,\n",
        "                                            batch_size=8,\n",
        "                                            device='cuda',\n",
        "                                            early_stopping_patience=10,\n",
        "                                            max_batches_per_epoch_train=2000,\n",
        "                                            max_batches_per_epoch_val=len(test_dataset),\n",
        "                                            lr_scheduler_ctor=lambda optim: torch.optim.lr_scheduler.ReduceLROnPlateau(optim, patience=1, verbose=True))"
      ]
    },
    {
      "cell_type": "code",
      "execution_count": 18,
      "metadata": {
        "ExecuteTime": {
          "end_time": "2019-10-29T19:20:12.862018Z",
          "start_time": "2019-10-29T19:20:12.832046Z"
        },
        "colab": {
          "base_uri": "https://localhost:8080/",
          "height": 304
        },
        "id": "MTkSy3sVXd-9",
        "outputId": "e0c7fcb8-c4bb-4e4f-9dff-e8539e4dcb91"
      },
      "outputs": [
        {
          "output_type": "error",
          "ename": "RuntimeError",
          "evalue": "Parent directory models does not exist.",
          "traceback": [
            "\u001b[0;31m---------------------------------------------------------------------------\u001b[0m",
            "\u001b[0;31mRuntimeError\u001b[0m                              Traceback (most recent call last)",
            "\u001b[0;32m<ipython-input-18-e9fd9cd30fd6>\u001b[0m in \u001b[0;36m<cell line: 2>\u001b[0;34m()\u001b[0m\n\u001b[1;32m      1\u001b[0m \u001b[0;31m# Если Вы запускаете ноутбук на colab или kaggle, добавьте в начало пути ./stepik-dl-nlp\u001b[0m\u001b[0;34m\u001b[0m\u001b[0;34m\u001b[0m\u001b[0m\n\u001b[0;32m----> 2\u001b[0;31m \u001b[0mtorch\u001b[0m\u001b[0;34m.\u001b[0m\u001b[0msave\u001b[0m\u001b[0;34m(\u001b[0m\u001b[0mtrainer\u001b[0m\u001b[0;34m.\u001b[0m\u001b[0mstate_dict\u001b[0m\u001b[0;34m(\u001b[0m\u001b[0;34m)\u001b[0m\u001b[0;34m,\u001b[0m \u001b[0;34m'models/sgns_baseline.pth'\u001b[0m\u001b[0;34m)\u001b[0m\u001b[0;34m\u001b[0m\u001b[0;34m\u001b[0m\u001b[0m\n\u001b[0m",
            "\u001b[0;32m/usr/local/lib/python3.10/dist-packages/torch/serialization.py\u001b[0m in \u001b[0;36msave\u001b[0;34m(obj, f, pickle_module, pickle_protocol, _use_new_zipfile_serialization, _disable_byteorder_record)\u001b[0m\n\u001b[1;32m    625\u001b[0m \u001b[0;34m\u001b[0m\u001b[0m\n\u001b[1;32m    626\u001b[0m     \u001b[0;32mif\u001b[0m \u001b[0m_use_new_zipfile_serialization\u001b[0m\u001b[0;34m:\u001b[0m\u001b[0;34m\u001b[0m\u001b[0;34m\u001b[0m\u001b[0m\n\u001b[0;32m--> 627\u001b[0;31m         \u001b[0;32mwith\u001b[0m \u001b[0m_open_zipfile_writer\u001b[0m\u001b[0;34m(\u001b[0m\u001b[0mf\u001b[0m\u001b[0;34m)\u001b[0m \u001b[0;32mas\u001b[0m \u001b[0mopened_zipfile\u001b[0m\u001b[0;34m:\u001b[0m\u001b[0;34m\u001b[0m\u001b[0;34m\u001b[0m\u001b[0m\n\u001b[0m\u001b[1;32m    628\u001b[0m             \u001b[0m_save\u001b[0m\u001b[0;34m(\u001b[0m\u001b[0mobj\u001b[0m\u001b[0;34m,\u001b[0m \u001b[0mopened_zipfile\u001b[0m\u001b[0;34m,\u001b[0m \u001b[0mpickle_module\u001b[0m\u001b[0;34m,\u001b[0m \u001b[0mpickle_protocol\u001b[0m\u001b[0;34m,\u001b[0m \u001b[0m_disable_byteorder_record\u001b[0m\u001b[0;34m)\u001b[0m\u001b[0;34m\u001b[0m\u001b[0;34m\u001b[0m\u001b[0m\n\u001b[1;32m    629\u001b[0m             \u001b[0;32mreturn\u001b[0m\u001b[0;34m\u001b[0m\u001b[0;34m\u001b[0m\u001b[0m\n",
            "\u001b[0;32m/usr/local/lib/python3.10/dist-packages/torch/serialization.py\u001b[0m in \u001b[0;36m_open_zipfile_writer\u001b[0;34m(name_or_buffer)\u001b[0m\n\u001b[1;32m    499\u001b[0m     \u001b[0;32melse\u001b[0m\u001b[0;34m:\u001b[0m\u001b[0;34m\u001b[0m\u001b[0;34m\u001b[0m\u001b[0m\n\u001b[1;32m    500\u001b[0m         \u001b[0mcontainer\u001b[0m \u001b[0;34m=\u001b[0m \u001b[0m_open_zipfile_writer_buffer\u001b[0m\u001b[0;34m\u001b[0m\u001b[0;34m\u001b[0m\u001b[0m\n\u001b[0;32m--> 501\u001b[0;31m     \u001b[0;32mreturn\u001b[0m \u001b[0mcontainer\u001b[0m\u001b[0;34m(\u001b[0m\u001b[0mname_or_buffer\u001b[0m\u001b[0;34m)\u001b[0m\u001b[0;34m\u001b[0m\u001b[0;34m\u001b[0m\u001b[0m\n\u001b[0m\u001b[1;32m    502\u001b[0m \u001b[0;34m\u001b[0m\u001b[0m\n\u001b[1;32m    503\u001b[0m \u001b[0;34m\u001b[0m\u001b[0m\n",
            "\u001b[0;32m/usr/local/lib/python3.10/dist-packages/torch/serialization.py\u001b[0m in \u001b[0;36m__init__\u001b[0;34m(self, name)\u001b[0m\n\u001b[1;32m    470\u001b[0m             \u001b[0msuper\u001b[0m\u001b[0;34m(\u001b[0m\u001b[0;34m)\u001b[0m\u001b[0;34m.\u001b[0m\u001b[0m__init__\u001b[0m\u001b[0;34m(\u001b[0m\u001b[0mtorch\u001b[0m\u001b[0;34m.\u001b[0m\u001b[0m_C\u001b[0m\u001b[0;34m.\u001b[0m\u001b[0mPyTorchFileWriter\u001b[0m\u001b[0;34m(\u001b[0m\u001b[0mself\u001b[0m\u001b[0;34m.\u001b[0m\u001b[0mfile_stream\u001b[0m\u001b[0;34m)\u001b[0m\u001b[0;34m)\u001b[0m\u001b[0;34m\u001b[0m\u001b[0;34m\u001b[0m\u001b[0m\n\u001b[1;32m    471\u001b[0m         \u001b[0;32melse\u001b[0m\u001b[0;34m:\u001b[0m\u001b[0;34m\u001b[0m\u001b[0;34m\u001b[0m\u001b[0m\n\u001b[0;32m--> 472\u001b[0;31m             \u001b[0msuper\u001b[0m\u001b[0;34m(\u001b[0m\u001b[0;34m)\u001b[0m\u001b[0;34m.\u001b[0m\u001b[0m__init__\u001b[0m\u001b[0;34m(\u001b[0m\u001b[0mtorch\u001b[0m\u001b[0;34m.\u001b[0m\u001b[0m_C\u001b[0m\u001b[0;34m.\u001b[0m\u001b[0mPyTorchFileWriter\u001b[0m\u001b[0;34m(\u001b[0m\u001b[0mself\u001b[0m\u001b[0;34m.\u001b[0m\u001b[0mname\u001b[0m\u001b[0;34m)\u001b[0m\u001b[0;34m)\u001b[0m\u001b[0;34m\u001b[0m\u001b[0;34m\u001b[0m\u001b[0m\n\u001b[0m\u001b[1;32m    473\u001b[0m \u001b[0;34m\u001b[0m\u001b[0m\n\u001b[1;32m    474\u001b[0m     \u001b[0;32mdef\u001b[0m \u001b[0m__exit__\u001b[0m\u001b[0;34m(\u001b[0m\u001b[0mself\u001b[0m\u001b[0;34m,\u001b[0m \u001b[0;34m*\u001b[0m\u001b[0margs\u001b[0m\u001b[0;34m)\u001b[0m \u001b[0;34m->\u001b[0m \u001b[0;32mNone\u001b[0m\u001b[0;34m:\u001b[0m\u001b[0;34m\u001b[0m\u001b[0;34m\u001b[0m\u001b[0m\n",
            "\u001b[0;31mRuntimeError\u001b[0m: Parent directory models does not exist."
          ]
        }
      ],
      "source": [
        "# Если Вы запускаете ноутбук на colab или kaggle, добавьте в начало пути ./stepik-dl-nlp\n",
        "torch.save(trainer.state_dict(), 'models/sgns_baseline.pth')"
      ]
    },
    {
      "cell_type": "code",
      "source": [
        "#  !unzip models.zip"
      ],
      "metadata": {
        "colab": {
          "base_uri": "https://localhost:8080/"
        },
        "outputId": "58dc889c-a727-4dc1-f4ad-93d9cbc9fe2a",
        "id": "3SiCgVoEXd-9"
      },
      "execution_count": null,
      "outputs": [
        {
          "output_type": "stream",
          "name": "stdout",
          "text": [
            "Archive:  models.zip\n",
            "   creating: models/\n",
            "  inflating: models/sgns.pth         \n"
          ]
        }
      ]
    },
    {
      "cell_type": "code",
      "execution_count": null,
      "metadata": {
        "ExecuteTime": {
          "end_time": "2019-10-29T19:20:12.888270Z",
          "start_time": "2019-10-29T19:20:12.864706Z"
        },
        "colab": {
          "base_uri": "https://localhost:8080/"
        },
        "outputId": "df0287b1-a579-4638-9482-c11e91eda392",
        "id": "8k6GCWzbXd--"
      },
      "outputs": [
        {
          "output_type": "execute_result",
          "data": {
            "text/plain": [
              "<All keys matched successfully>"
            ]
          },
          "metadata": {},
          "execution_count": 23
        }
      ],
      "source": [
        "# Если Вы запускаете ноутбук на colab или kaggle, добавьте в начало пути ./stepik-dl-nlp\n",
        "trainer.load_state_dict(torch.load('models/sgns_baseline.pth'))"
      ]
    },
    {
      "cell_type": "code",
      "source": [
        "#  !zip -r models.zip models/"
      ],
      "metadata": {
        "colab": {
          "base_uri": "https://localhost:8080/"
        },
        "outputId": "ada0588a-c3b1-4557-98b5-4ef2cba3eb78",
        "id": "Lqd1K-9FXd--"
      },
      "execution_count": null,
      "outputs": [
        {
          "output_type": "stream",
          "name": "stdout",
          "text": [
            "  adding: models/ (stored 0%)\n",
            "  adding: models/sgns.pth (deflated 7%)\n"
          ]
        }
      ]
    }
  ],
  "metadata": {
    "kernelspec": {
      "display_name": "Python 3",
      "name": "python3"
    },
    "language_info": {
      "codemirror_mode": {
        "name": "ipython",
        "version": 3
      },
      "file_extension": ".py",
      "mimetype": "text/x-python",
      "name": "python",
      "nbconvert_exporter": "python",
      "pygments_lexer": "ipython3",
      "version": "3.6.10"
    },
    "latex_envs": {
      "LaTeX_envs_menu_present": true,
      "autoclose": false,
      "autocomplete": true,
      "bibliofile": "biblio.bib",
      "cite_by": "apalike",
      "current_citInitial": 1,
      "eqLabelWithNumbers": true,
      "eqNumInitial": 1,
      "hotkeys": {
        "equation": "Ctrl-E",
        "itemize": "Ctrl-I"
      },
      "labels_anchors": false,
      "latex_user_defs": false,
      "report_style_numbering": false,
      "user_envs_cfg": false
    },
    "toc": {
      "base_numbering": 1,
      "nav_menu": {},
      "number_sections": true,
      "sideBar": true,
      "skip_h1_title": false,
      "title_cell": "Table of Contents",
      "title_sidebar": "Contents",
      "toc_cell": false,
      "toc_position": {},
      "toc_section_display": true,
      "toc_window_display": false
    },
    "colab": {
      "provenance": [],
      "toc_visible": true,
      "gpuType": "T4",
      "include_colab_link": true
    },
    "accelerator": "GPU"
  },
  "nbformat": 4,
  "nbformat_minor": 0
}